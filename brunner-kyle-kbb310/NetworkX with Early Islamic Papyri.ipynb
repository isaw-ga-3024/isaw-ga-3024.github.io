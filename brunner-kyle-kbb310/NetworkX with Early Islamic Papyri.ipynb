{
 "cells": [
  {
   "cell_type": "code",
   "execution_count": 66,
   "metadata": {
    "collapsed": false
   },
   "outputs": [],
   "source": [
    "import pandas as pd\n",
    "import sqlite3\n",
    "import networkx as nx\n",
    "import matplotlib.pyplot as plt\n",
    "import numpy as np\n",
    "\n",
    "# Import Python libraries. Pandas will be used to import our data set and to work with SQL for other \n",
    "# Data queries and visualization. NetworkX is our main library that will conduct our network analysis.\n",
    "# This will include building our network and running statistical functions. \n",
    "# Matplotlib will create our graphs in tandem with NetworkX\n",
    "# NumPy will help with statistical analysis\n"
   ]
  },
  {
   "cell_type": "code",
   "execution_count": 67,
   "metadata": {
    "collapsed": false
   },
   "outputs": [],
   "source": [
    "p_edges = pd.read_csv(\"edgetestpapyri.csv\") # uploading csv file\n",
    "conn = sqlite3.connect(':memory:')"
   ]
  },
  {
   "cell_type": "code",
   "execution_count": 78,
   "metadata": {
    "collapsed": false
   },
   "outputs": [
    {
     "data": {
      "text/html": [
       "<div>\n",
       "<table border=\"1\" class=\"dataframe\">\n",
       "  <thead>\n",
       "    <tr style=\"text-align: right;\">\n",
       "      <th></th>\n",
       "      <th>Source</th>\n",
       "      <th>Target</th>\n",
       "      <th>Source Rank</th>\n",
       "      <th>Source Location Name</th>\n",
       "      <th>Target Rank</th>\n",
       "      <th>Target Location Name</th>\n",
       "      <th>Date</th>\n",
       "      <th>Citation</th>\n",
       "      <th>Languages in Use</th>\n",
       "      <th>Letter Type</th>\n",
       "      <th>Keywords</th>\n",
       "      <th>Scribe</th>\n",
       "    </tr>\n",
       "  </thead>\n",
       "  <tbody>\n",
       "    <tr>\n",
       "      <th>0</th>\n",
       "      <td>Najid b. Muslim</td>\n",
       "      <td>Abd Allah b. As'ad</td>\n",
       "      <td>Sahib</td>\n",
       "      <td>Medinat al-Fayyum</td>\n",
       "      <td>Official</td>\n",
       "      <td>Medinat al-Fayyum</td>\n",
       "      <td>c. 730-50 CE</td>\n",
       "      <td>P.Mich.inv.5558(1)</td>\n",
       "      <td>Arabic</td>\n",
       "      <td>Personal</td>\n",
       "      <td>NaN</td>\n",
       "      <td>NaN</td>\n",
       "    </tr>\n",
       "    <tr>\n",
       "      <th>1</th>\n",
       "      <td>Anonymous Amir</td>\n",
       "      <td>Najid b. Muslim</td>\n",
       "      <td>Amir</td>\n",
       "      <td>Fustat</td>\n",
       "      <td>Sahib</td>\n",
       "      <td>Medinat al-Fayyum</td>\n",
       "      <td>c. 730-50 CE</td>\n",
       "      <td>P.Mich.inv.5558(1)</td>\n",
       "      <td>Arabic</td>\n",
       "      <td>Personal</td>\n",
       "      <td>NaN</td>\n",
       "      <td>NaN</td>\n",
       "    </tr>\n",
       "    <tr>\n",
       "      <th>2</th>\n",
       "      <td>Yazid b. 'Ali</td>\n",
       "      <td>Najid b. Muslim</td>\n",
       "      <td>Treasurer</td>\n",
       "      <td>Fustat</td>\n",
       "      <td>Sahib</td>\n",
       "      <td>Medinat al-Fayyum</td>\n",
       "      <td>c. 730-50 CE</td>\n",
       "      <td>P.Mich.inv.5558(1)</td>\n",
       "      <td>Arabic</td>\n",
       "      <td>Personal</td>\n",
       "      <td>NaN</td>\n",
       "      <td>NaN</td>\n",
       "    </tr>\n",
       "    <tr>\n",
       "      <th>3</th>\n",
       "      <td>Najid b. Muslim</td>\n",
       "      <td>Abd Allah b. As'ad</td>\n",
       "      <td>Sahib</td>\n",
       "      <td>Medinat al-Fayyum</td>\n",
       "      <td>Official</td>\n",
       "      <td>Medinat al-Fayyum</td>\n",
       "      <td>c. 730-50 CE</td>\n",
       "      <td>P.Mich.inv. 5629</td>\n",
       "      <td>Arabic</td>\n",
       "      <td>Tax Demand</td>\n",
       "      <td>بقايا</td>\n",
       "      <td>NaN</td>\n",
       "    </tr>\n",
       "  </tbody>\n",
       "</table>\n",
       "</div>"
      ],
      "text/plain": [
       "            Source              Target Source Rank Source Location Name  \\\n",
       "0  Najid b. Muslim  Abd Allah b. As'ad       Sahib    Medinat al-Fayyum   \n",
       "1   Anonymous Amir     Najid b. Muslim        Amir               Fustat   \n",
       "2    Yazid b. 'Ali     Najid b. Muslim   Treasurer               Fustat   \n",
       "3  Najid b. Muslim  Abd Allah b. As'ad       Sahib    Medinat al-Fayyum   \n",
       "\n",
       "  Target Rank Target Location Name          Date            Citation  \\\n",
       "0    Official    Medinat al-Fayyum  c. 730-50 CE  P.Mich.inv.5558(1)   \n",
       "1       Sahib    Medinat al-Fayyum  c. 730-50 CE  P.Mich.inv.5558(1)   \n",
       "2       Sahib    Medinat al-Fayyum  c. 730-50 CE  P.Mich.inv.5558(1)   \n",
       "3    Official    Medinat al-Fayyum  c. 730-50 CE    P.Mich.inv. 5629   \n",
       "\n",
       "  Languages in Use Letter Type Keywords Scribe  \n",
       "0           Arabic    Personal      NaN    NaN  \n",
       "1           Arabic    Personal      NaN    NaN  \n",
       "2           Arabic    Personal      NaN    NaN  \n",
       "3           Arabic  Tax Demand    بقايا    NaN  "
      ]
     },
     "execution_count": 78,
     "metadata": {},
     "output_type": "execute_result"
    }
   ],
   "source": [
    "p_edges.head(4) #Testing if our csv file imported"
   ]
  },
  {
   "cell_type": "code",
   "execution_count": 157,
   "metadata": {
    "collapsed": true
   },
   "outputs": [],
   "source": [
    "df = pd.DataFrame(p_edges, columns=['Source', 'Target', 'Citation'])\n",
    "#This designates what columns from our csv file mark our Nodes and Edges"
   ]
  },
  {
   "cell_type": "code",
   "execution_count": 158,
   "metadata": {
    "collapsed": false
   },
   "outputs": [],
   "source": [
    "g = nx.from_pandas_dataframe(df, 'Source', 'Target', edge_attr='Citation', create_using=nx.Graph())\n",
    "#This defines Graph \"G\" as the list of nodes and edges from our csv file "
   ]
  },
  {
   "cell_type": "code",
   "execution_count": 159,
   "metadata": {
    "collapsed": false
   },
   "outputs": [
    {
     "data": {
      "text/plain": [
       "[('Anonymous Amir', 'Najid b. Muslim'),\n",
       " ('Anonymous Amir', 'The Barns of Babylon'),\n",
       " ('Khalid', 'Najid b. Muslim'),\n",
       " ('Basileios', 'Qurra b. Sharik'),\n",
       " ('Sahl b. Abd al-Aziz', 'Uqba b. Muslim'),\n",
       " (\"Abd Allah b. As'ad\", 'Najid b. Muslim'),\n",
       " (\"Abd Allah b. As'ad\", 'Yazid'),\n",
       " ('The People of Monastery of St. Mary', 'Qurra b. Sharik'),\n",
       " ('Najid b. Muslim', \"Yazid b. 'Ali\"),\n",
       " ('The People of Pinoutios', 'Qurra b. Sharik'),\n",
       " ('The People of Monastery of Abba Hermaotos', 'Qurra b. Sharik')]"
      ]
     },
     "execution_count": 159,
     "metadata": {},
     "output_type": "execute_result"
    }
   ],
   "source": [
    "g.edges() # Double checking our edge list to make sure everything came out right \n",
    "# from the csv, and that there are no duplicates"
   ]
  },
  {
   "cell_type": "code",
   "execution_count": 170,
   "metadata": {
    "collapsed": false
   },
   "outputs": [
    {
     "name": "stdout",
     "output_type": "stream",
     "text": [
      "{'Anonymous Amir': 0.14102564102564102, 'Khalid': 0.07692307692307693, 'Basileios': 0.05128205128205128, 'Yazid': 0.07692307692307693, 'The Barns of Babylon': 0.07692307692307693, 'Sahl b. Abd al-Aziz': 0.01282051282051282, \"Abd Allah b. As'ad\": 0.14102564102564102, 'The People of Monastery of St. Mary': 0.05128205128205128, 'Najid b. Muslim': 0.24358974358974358, 'The People of Pinoutios': 0.05128205128205128, 'The People of Monastery of Abba Hermaotos': 0.05128205128205128, 'Qurra b. Sharik': 0.1282051282051282, \"Yazid b. 'Ali\": 0.07692307692307693, 'Uqba b. Muslim': 0.01282051282051282}\n",
      "{'Anonymous Amir': 0.2517482517482517, 'Khalid': 0.21301775147928997, 'Basileios': 0.17582417582417584, 'Yazid': 0.17307692307692307, 'The Barns of Babylon': 0.17307692307692307, 'Sahl b. Abd al-Aziz': 0.07692307692307693, \"Abd Allah b. As'ad\": 0.2517482517482517, 'The People of Monastery of St. Mary': 0.17582417582417584, 'Najid b. Muslim': 0.34615384615384615, 'The People of Pinoutios': 0.17582417582417584, 'The People of Monastery of Abba Hermaotos': 0.17582417582417584, 'Qurra b. Sharik': 0.3076923076923077, \"Yazid b. 'Ali\": 0.21301775147928997, 'Uqba b. Muslim': 0.07692307692307693}\n"
     ]
    }
   ],
   "source": [
    "b_centrality = nx.betweenness_centrality(g, endpoints=True) #Here I am calculating the centrality of the Network\n",
    "c_centrality = nx.closeness_centrality(g) #\n",
    "\n",
    "print(b_centrality)\n",
    "print(c_centrality)"
   ]
  },
  {
   "cell_type": "code",
   "execution_count": 179,
   "metadata": {
    "collapsed": false
   },
   "outputs": [],
   "source": [
    "pos = nx.spring_layout(g) # Position of Nodes\n",
    "d = nx.degree(g) #centrality size\n",
    "# Drawing Nodes\n",
    "nx.draw_spring(g, node_color='b', linewidths=2)\n",
    "nx.draw_networkx_labels(g, pos)\n",
    "# nx.draw_networkx_edge_labels(g, pos) <-- This makes things real messy.\n",
    "plt.show()\n",
    "# I'm still working on how to change the node size based on centrality, etc."
   ]
  },
  {
   "cell_type": "code",
   "execution_count": 177,
   "metadata": {
    "collapsed": false
   },
   "outputs": [
    {
     "name": "stdout",
     "output_type": "stream",
     "text": [
      "Name: \n",
      "Type: Graph\n",
      "Number of nodes: 14\n",
      "Number of edges: 11\n",
      "Average degree:   1.5714\n"
     ]
    }
   ],
   "source": [
    "print(nx.info(g))"
   ]
  },
  {
   "cell_type": "code",
   "execution_count": null,
   "metadata": {
    "collapsed": true
   },
   "outputs": [],
   "source": []
  }
 ],
 "metadata": {
  "anaconda-cloud": {},
  "kernelspec": {
   "display_name": "Python [Root]",
   "language": "python",
   "name": "Python [Root]"
  },
  "language_info": {
   "codemirror_mode": {
    "name": "ipython",
    "version": 3
   },
   "file_extension": ".py",
   "mimetype": "text/x-python",
   "name": "python",
   "nbconvert_exporter": "python",
   "pygments_lexer": "ipython3",
   "version": "3.5.2"
  }
 },
 "nbformat": 4,
 "nbformat_minor": 0
}
