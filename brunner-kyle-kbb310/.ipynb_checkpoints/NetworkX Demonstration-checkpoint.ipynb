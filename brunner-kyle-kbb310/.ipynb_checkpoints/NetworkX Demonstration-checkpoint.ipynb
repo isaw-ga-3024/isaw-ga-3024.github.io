{
 "cells": [
  {
   "cell_type": "code",
   "execution_count": 2,
   "metadata": {
    "collapsed": true
   },
   "outputs": [],
   "source": [
    "import networkx as nx\n",
    "import matplotlib.pyplot as plt\n",
    "import numpy as np\n",
    "\n",
    "# Here we will import our libraries that we need to start making\n",
    "# our first network!"
   ]
  },
  {
   "cell_type": "code",
   "execution_count": 3,
   "metadata": {
    "collapsed": true
   },
   "outputs": [],
   "source": [
    "g = nx.Graph()\n",
    "\n",
    "# This definites \"g\" as an empty basic, undirected network\n",
    "# There are many other types of networks available with NetworkX\n",
    "# Such as a directed graph: g=nx.DiGraph() \n"
   ]
  },
  {
   "cell_type": "code",
   "execution_count": 4,
   "metadata": {
    "collapsed": true
   },
   "outputs": [],
   "source": [
    "# Now we need to enter in some data!\n",
    "# This can also be done through a csv file and/or other file formats\n",
    "# However, that will be discussed later. In the mean time, we will specifically\n",
    "# look at how to manually enter data to get a close and personal look at \n",
    "# Network Analysis\n",
    "\n",
    "# Here we will just use numbers, but you can easily use strings as well. \n",
    "# The following is an abbreviated tutorial from \n",
    "# Online: http://networkx.readthedocs.io/en/latest/tutorial/tutorial.html\n",
    "\n",
    "g.add_node(1) #This adds the node known as \"1\" to our list.\n",
    "\n",
    "# You can also add a list of nodes at one time. NB: these are not connected.\n",
    "\n",
    "g.add_nodes_from([2,3,4,5,6,7,8,9])"
   ]
  },
  {
   "cell_type": "code",
   "execution_count": 5,
   "metadata": {
    "collapsed": false
   },
   "outputs": [
    {
     "data": {
      "text/plain": [
       "[1, 2, 3, 4, 5, 6, 7, 8, 9]"
      ]
     },
     "execution_count": 5,
     "metadata": {},
     "output_type": "execute_result"
    }
   ],
   "source": [
    "# to double check our list \n",
    "g.nodes()"
   ]
  },
  {
   "cell_type": "code",
   "execution_count": 6,
   "metadata": {
    "collapsed": true
   },
   "outputs": [],
   "source": [
    "# Now we have to build our relationships.\n",
    "\n",
    "g.add_edges_from([(1,2), (2,3), (6,8), (3,4), (2,4), \n",
    "                 (1,4), (4,7), (5,9), (7,9), (4,8), (3,6)])"
   ]
  },
  {
   "cell_type": "code",
   "execution_count": 7,
   "metadata": {
    "collapsed": false
   },
   "outputs": [
    {
     "data": {
      "text/plain": [
       "[(1, 2),\n",
       " (1, 4),\n",
       " (2, 3),\n",
       " (2, 4),\n",
       " (3, 4),\n",
       " (3, 6),\n",
       " (4, 8),\n",
       " (4, 7),\n",
       " (5, 9),\n",
       " (6, 8),\n",
       " (7, 9)]"
      ]
     },
     "execution_count": 7,
     "metadata": {},
     "output_type": "execute_result"
    }
   ],
   "source": [
    "# Let's double check our edge list\n",
    "g.edges()"
   ]
  },
  {
   "cell_type": "code",
   "execution_count": 9,
   "metadata": {
    "collapsed": false
   },
   "outputs": [],
   "source": [
    "# now that we have our nodes and edges, we can start analyzing our data.\n",
    "# NetworkX offers many cool functions for statistical analysis\n",
    "# You can also incorporate Matplotlib for visualizing your network\n",
    "# and statistics results\n",
    "\n",
    "# # There are a bunch of different network layouts that you can find\n",
    "# on the NetworkX Documentation, but we will focus on the main one.\n",
    "pos = nx.spring_layout(g)\n",
    "\n",
    "nx.draw_spring(g)\n",
    "nx.draw_networkx_labels(g,pos)\n",
    "plt.show()"
   ]
  },
  {
   "cell_type": "code",
   "execution_count": 18,
   "metadata": {
    "collapsed": false
   },
   "outputs": [],
   "source": [
    "c_centrality = nx.closeness_centrality(g)\n",
    "b_centrality = nx.betweenness_centrality(g)"
   ]
  },
  {
   "cell_type": "code",
   "execution_count": null,
   "metadata": {
    "collapsed": false
   },
   "outputs": [],
   "source": [
    "print(c_centrality)\n",
    "print(b_centrality)"
   ]
  },
  {
   "cell_type": "code",
   "execution_count": 31,
   "metadata": {
    "collapsed": false
   },
   "outputs": [],
   "source": [
    "z = nx.random_geometric_graph(200,0.125)\n",
    "pos=nx.get_node_attributes(z,'pos')\n",
    "\n",
    "dmin=1\n",
    "ncenter=0\n",
    "for n in pos:\n",
    "    x,y=pos[n]\n",
    "    d=(x-0.5)**2+(y-0.5)**2\n",
    "    if d>dmin:\n",
    "        ncenter=n\n",
    "        dmin=d\n",
    "        \n",
    "p = dict(nx.single_source_shortest_path_length(z, ncenter))\n",
    "\n",
    "plt.figure(figsize=(8,8))\n",
    "nx.draw_networkx_edges(z, pos, nodelist=[ncenter], alpha=0.4)\n",
    "nx.draw_networkx_nodes(z, pos, nodelist=p.keys(),\n",
    "                      cmap=plt.cm.Reds_r)\n",
    "\n",
    "plt.xlim(-0.05,1.05)\n",
    "plt.ylim(-0.05,1.05)\n",
    "plt.axis('off')\n",
    "plt.show()"
   ]
  },
  {
   "cell_type": "code",
   "execution_count": null,
   "metadata": {
    "collapsed": true
   },
   "outputs": [],
   "source": []
  }
 ],
 "metadata": {
  "anaconda-cloud": {},
  "kernelspec": {
   "display_name": "Python [Root]",
   "language": "python",
   "name": "Python [Root]"
  },
  "language_info": {
   "codemirror_mode": {
    "name": "ipython",
    "version": 3
   },
   "file_extension": ".py",
   "mimetype": "text/x-python",
   "name": "python",
   "nbconvert_exporter": "python",
   "pygments_lexer": "ipython3",
   "version": "3.5.2"
  }
 },
 "nbformat": 4,
 "nbformat_minor": 0
}
