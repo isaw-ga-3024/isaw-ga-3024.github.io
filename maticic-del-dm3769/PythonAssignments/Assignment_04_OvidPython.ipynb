{
 "cells": [
  {
   "cell_type": "markdown",
   "metadata": {},
   "source": [
    "# Loading and Processing TEI-Encoded XML\n",
    "Because I wasn't able to get everyone working with the lxml library, I've simplified the process of loading xml and then processing it. Follow along below and let me know if you have any problems planning and implementing your assignment."
   ]
  },
  {
   "cell_type": "markdown",
   "metadata": {},
   "source": [
    "## Step 1: Read XML from github\n"
   ]
  },
  {
   "cell_type": "code",
   "execution_count": 9,
   "metadata": {
    "collapsed": false
   },
   "outputs": [
    {
     "name": "stdout",
     "output_type": "stream",
     "text": [
      "<?xml version=\"1.0\" encoding=\"UTF-8\"?>\n",
      "<?xml-model href=\"http://www.stoa.org/epidoc/schema/8.16/tei-epidoc.rng\" type=\"application/xml\" schematypens=\"http://relaxng.org/ns/structure/1.0\"?>\n",
      "<TEI xmlns=\"http://www.tei-c.org/ns/1.0\"\n",
      "     n=\"0001;1;133\"\n",
      "     xml:id=\"bgu.1.133\"\n",
      "     xml:lang=\"en\">\n",
      "   <teiHeader>\n",
      "      <fileDesc>\n",
      "         <titleStmt>\n",
      "            <title>bgu.1.133</title>\n",
      "         </titleStmt>\n",
      "         <publicationStmt>\n",
      "            <authority>Duke Collaboratory for Classics Computing (DC3)</authority>\n",
      "            <idno type=\"filename\">bgu.1.133</idno>\n",
      "            <idno type=\"ddb-perseus-style\">0001;1;133</idno>\n",
      "            <idno type=\"ddb-hybrid\">bgu;1;133</idno>\n",
      "            <idno type=\"HGV\">8910</idno>\n",
      "            <idno type=\"TM\">8910</idno>\n",
      "            <availability>\n",
      "               <p>© Duke Databank of Documentary Papyri. This work is licensed under a <ref type=\"license\" target=\"http://creativecommons.org/licenses/by/3.0/\">Creative Commons Attribution 3.0 License</ref>.</p>\n",
      "            </availability>\n",
      "         </publicationStmt>\n",
      "         <sourceDesc>\n",
      "            <p/>\n",
      "         </sourceDesc>\n",
      "      </fileDesc>\n",
      "      <profileDesc>\n",
      "         <langUsage>\n",
      "            <language ident=\"en\">English</language>\n",
      "            <language ident=\"grc\">Greek</language>\n",
      "         </langUsage>\n",
      "         <handNotes>\n",
      "            <handNote xml:id=\"m2\"/>\n",
      "            <handNote xml:id=\"m1\"/>\n",
      "         </handNotes>\n",
      "      </profileDesc>\n",
      "      <revisionDesc>\n",
      "          <change when=\"2011-12-14\" who=\"http://papyri.info/editor/users/gabrielbodard\">rationalized languages in langUsage</change>\n",
      "          <change when=\"2011-12-14\" who=\"http://papyri.info/editor/users/gabrielbodard\">changed editor names to URIs</change>\n",
      "          <change when=\"2011-11-07T13:56:46.857-05:00\"\n",
      "                 who=\"http://papyri.info/editor/users/joshuad.sosin\">Finalized - ready</change>\n",
      "          <change when=\"2011-11-07T13:56:46.84-05:00\"\n",
      "                 who=\"http://papyri.info/editor/users/joshuad.sosin\">Vote - Accept-Straight-to-FInalization - this batch added line breaks to origs where  lacking</change>\n",
      "          <change when=\"2011-11-07T13:46:19.043-05:00\"\n",
      "                 who=\"http://papyri.info/editor/users/joshuad.sosin\">fixed cases in which orig lacked line break.</change>\n",
      "          <change when=\"2011-10-31\" who=\"http://papyri.info/editor/users/gabrielbodard\">changed type=inWord to break=no</change>\n",
      "          <change when=\"2011-10-04\" who=\"http://papyri.info/editor/users/Faith\">Automatically updated revision description</change>\n",
      "          <change when=\"2011-09-20\" who=\"http://papyri.info/editor/users/Faith\">Automated transfer of accents across reg-orig pairs</change>\n",
      "          <change when=\"2011-03-02\" who=\"http://papyri.info/editor/users/gabrielbodard\">batch converted all tei:sic to tei:orig and tei:corr to tei:reg</change>\n",
      "          <change when=\"2010-05-05\" who=\"http://papyri.info/editor/users/gabrielbodard\">changed schema; added xml:space=preserve; indented; moved title/@n to idno</change>\n",
      "          <change when=\"2009-11-12\" who=\"http://papyri.info/editor/users/gabrielbodard\">Added language la-Grek</change>\n",
      "          <change when=\"2009-06-27\" who=\"http://papyri.info/editor/users/gabrielbodard\">Converted from TEI P4 (EpiDoc DTD v. 6) to P5 (EpiDoc RNG schema)</change>\n",
      "          <change when=\"2008-12-22\" who=\"http://papyri.info/about\">Automated split from transcoder files</change>\n",
      "      </revisionDesc>\n",
      "   </teiHeader>\n",
      "   <text>\n",
      "      <body>\n",
      "         <head n=\"8910\" xml:lang=\"en\">\n",
      "            <date>AD144/5</date>\n",
      "            <placeName>Arsinoite</placeName>\n",
      "         </head>\n",
      "         <div xml:lang=\"grc\" type=\"edition\" xml:space=\"preserve\"><ab>\n",
      "    <lb n=\"1\"/><handShift new=\"m2\"/> <num value=\"4\"><unclear>δ</unclear></num> \n",
      "\n",
      "    <lb n=\"2\"/><handShift new=\"m1\"/> Αἰλίωι Σαραπίωνι <expan>στρ<ex>ατηγῷ</ex></expan> \n",
      "\n",
      "    <lb n=\"3\"/><expan>Ἀρσι<ex>νοΐτου</ex></expan> <expan>Ἡρακ<ex>λείδου</ex></expan> <expan>μερίδο<ex>ς</ex></expan> \n",
      "\n",
      "    <lb n=\"4\"/>παρὰ Σουχᾶ τοῦ Σουχᾶ \n",
      "\n",
      "    <lb n=\"5\"/>τοῦ Διοδώρου ἀπὸ <expan>ἀμφόδο<ex>υ</ex></expan> \n",
      "\n",
      "    <lb n=\"6\"/>Ἑλληνίου. ἃ ἀπεγραψάμην \n",
      "\n",
      "    <lb n=\"7\"/>τῷ διεληλυθότι <num value=\"7\">ζ</num> <expan><ex>ἔτει</ex></expan> πρόβατα \n",
      "\n",
      "    <lb n=\"8\"/><num value=\"104\">ρδ</num> <expan>αἶγ<ex>ας</ex></expan> <num value=\"6\">ϛ</num> ἄρνας <num value=\"10\">ι</num>, ἐξ ὧν <choice><reg>διε\n",
      "\n",
      "    <lb n=\"9\" break=\"no\"/>φθάρη</reg><orig>διε<lb n=\"9\" break=\"no\"/>φάαθη</orig></choice> πρόβατα δέκα τέσσε<supplied reason=\"lost\">ρα</supplied> <num value=\"14\"/>, \n",
      "\n",
      "    <lb n=\"10\"/>τὰ δὲ λοιπὰ πρόβατα ἑκατ<supplied reason=\"lost\">ὸν</supplied> <num value=\"100\"/> \n",
      "\n",
      "    <lb n=\"11\"/><supplied reason=\"lost\">ἀ</supplied>πογράφομαι καὶ εἰς τὸ ἐν<supplied reason=\"lost\">εστὸς</supplied> \n",
      "\n",
      "    <lb n=\"12\"/><supplied reason=\"lost\"><num value=\"8\">η</num> <expan><ex>ἔτος</ex></expan> Ἀν</supplied>των<supplied reason=\"lost\">ίνου Καίσαρ</supplied>ος τοῦ κ<supplied reason=\"lost\">υρίου</supplied> \n",
      "\n",
      "    <lb n=\"13\"/><gap reason=\"lost\" extent=\"unknown\" unit=\"line\"/> </ab></div>\n",
      "      </body>\n",
      "   </text>\n",
      "</TEI>\n",
      "\n"
     ]
    }
   ],
   "source": [
    "import urllib.request\n",
    "\n",
    "# assign your url to the variable url_to_load\n",
    "# you can try http://papyri.info/ddbdp/bgu;1;133/source .\n",
    "url_to_load = \"http://papyri.info/ddbdp/bgu;1;133/source\" # url here\n",
    "\n",
    "f = urllib.request.urlopen(url_to_load)\n",
    "tei_as_string = f.read().decode('utf-8')\n",
    "\n",
    "print(tei_as_string)\n",
    "# if the above was successful you should see a TEI document below:"
   ]
  },
  {
   "cell_type": "markdown",
   "metadata": {},
   "source": [
    "## Step 2: We can already do things\n",
    "The find() method of strings will return the index of a substring. Try it:"
   ]
  },
  {
   "cell_type": "code",
   "execution_count": 10,
   "metadata": {
    "collapsed": false
   },
   "outputs": [
    {
     "name": "stdout",
     "output_type": "stream",
     "text": [
      "The first lb element begins at index 3674\n",
      "The first lb element ends at index 3685\n"
     ]
    }
   ],
   "source": [
    "url_to_load = \"http://papyri.info/ddbdp/bgu;1;133/source\" # url here\n",
    "\n",
    "f = urllib.request.urlopen(url_to_load)\n",
    "tei_as_string = f.read().decode('utf-8')\n",
    "\n",
    "start_index = tei_as_string.find('<lb') # find the index of the first lb element\n",
    "\n",
    "# why is the '[start_index:]' range important here?\n",
    "tmp_end_index = tei_as_string[start_index:].find('>')\n",
    "\n",
    "# what happens if we don't add 1 at the end? try it\n",
    "end_index = start_index + tmp_end_index + 1\n",
    "\n",
    "print(\"The first lb element begins at index \" + str(start_index))\n",
    "print(\"The first lb element ends at index \" + str(end_index))"
   ]
  },
  {
   "cell_type": "markdown",
   "metadata": {},
   "source": [
    "## Quiz!\n",
    "Print the first lb element by using the start_index and end_index."
   ]
  },
  {
   "cell_type": "code",
   "execution_count": 11,
   "metadata": {
    "collapsed": false
   },
   "outputs": [
    {
     "name": "stdout",
     "output_type": "stream",
     "text": [
      "<lb n=\"1\"/>\n"
     ]
    }
   ],
   "source": [
    "print(tei_as_string[start_index:end_index])"
   ]
  },
  {
   "cell_type": "markdown",
   "metadata": {},
   "source": [
    "## More complex elements\n",
    "lb elements are zero-lengh, which means they can take the form '&lt;lb n=\"#\" />' . Note the '/>' at the end of the element. This is equivalent to '&lt;lb n=\"#\">&lt;/lb>' but is easier to write.\n",
    "\n",
    "Next we want to capture elements of the form '&lt;persName type=\"a type\">Tom&lt;/persName>'. You know all the python code to do this. We just put things together a little differently.\n",
    "\n",
    "## Quiz\n",
    "The cell below is almost ready to load the sample URL from the first cell, then to find and print out the first 'expan' element. Assign a value to end_tag to make the cell work.\n"
   ]
  },
  {
   "cell_type": "code",
   "execution_count": 17,
   "metadata": {
    "collapsed": false
   },
   "outputs": [
    {
     "name": "stdout",
     "output_type": "stream",
     "text": [
      "<expan>στρ<ex>ατηγῷ</ex></expan> \n"
     ]
    }
   ],
   "source": [
    "url_to_load = \"http://papyri.info/ddbdp/bgu;1;133/source\"\n",
    "\n",
    "f = urllib.request.urlopen(url_to_load)\n",
    "tei_as_string = f.read().decode('utf-8')\n",
    "\n",
    "# start_tag\n",
    "start_tag = '<expan' # why leave off the '>'?\n",
    "end_tag = '</expan>'\n",
    "\n",
    "start_index = tei_as_string.find(start_tag)\n",
    "\n",
    "tmp_end_index = tei_as_string[start_index:].find(end_tag)\n",
    "\n",
    "end_index = start_index + tmp_end_index + len(end_tag) + 1 # why '+ len(end_tag)'?\n",
    "\n",
    "print(tei_as_string[start_index:end_index])"
   ]
  },
  {
   "cell_type": "markdown",
   "metadata": {},
   "source": [
    "## Quiz!\n",
    "Cut-and-paste the working code from the above cell and adapt it so that it finds the first supplied element. Be careful, supplied elements can have the form '&lt;supplied reason=\"...\"> ... &lt;/supplied>' This means you can just search for '&lt;supplied>'."
   ]
  },
  {
   "cell_type": "code",
   "execution_count": 23,
   "metadata": {
    "collapsed": false
   },
   "outputs": [
    {
     "name": "stdout",
     "output_type": "stream",
     "text": [
      "<supplied reason=\"lost\">ρα</supplied> \n"
     ]
    }
   ],
   "source": [
    "url_to_load = \"http://papyri.info/ddbdp/bgu;1;133/source\"\n",
    "\n",
    "f = urllib.request.urlopen(url_to_load)\n",
    "tei_as_string = f.read().decode('utf-8')\n",
    "\n",
    "# start_tag\n",
    "start_tag = '<supplied' # why leave off the '>'?\n",
    "end_tag = '</supplied>'\n",
    "\n",
    "start_index = tei_as_string.find(start_tag)\n",
    "\n",
    "tmp_end_index = tei_as_string[start_index:].find(end_tag)\n",
    "\n",
    "end_index = start_index + tmp_end_index + len(end_tag) + 1 # why '+ len(end_tag)'?\n",
    "\n",
    "print(tei_as_string[start_index:end_index])"
   ]
  },
  {
   "cell_type": "markdown",
   "metadata": {},
   "source": [
    "## A Better Way\n",
    "Building your own indexes into a string to find start and end tags could get very complicated very quickly. Let's use a libray. In class we used the 'lxml' library. I recommend sticking with that if you're going to process xml in python as part of your final project. Now we'll use the 'xml' library, which should work on everyone's machine. In the following cells, look at the comments to follow along."
   ]
  },
  {
   "cell_type": "code",
   "execution_count": 24,
   "metadata": {
    "collapsed": false
   },
   "outputs": [
    {
     "name": "stdout",
     "output_type": "stream",
     "text": [
      "Hello World!\n",
      "Goodbye!!!\n"
     ]
    }
   ],
   "source": [
    "# import what we need from the xml library\n",
    "import xml.etree.ElementTree as ET\n",
    "\n",
    "# some simple xml as a test\n",
    "xml_str = \"<doc><p>Hello World!</p><p>Goodbye!!!</p></doc>\"\n",
    "\n",
    "# turn this string into an ElementTree. Think of that as a very specialized version of a python list.\n",
    "xml_elements = ET.fromstring(xml_str)\n",
    "\n",
    "# ElementTrees have a .findall method that can take an xpath expression.\n",
    "# IMPORTANT: being your xpath with '.'\n",
    "# You can iterate over them with a for loop.\n",
    "for p in xml_elements.findall('p'):\n",
    "    print(p.text)"
   ]
  },
  {
   "cell_type": "code",
   "execution_count": 25,
   "metadata": {
    "collapsed": false
   },
   "outputs": [
    {
     "name": "stdout",
     "output_type": "stream",
     "text": [
      "salutation\n",
      "farewell\n"
     ]
    }
   ],
   "source": [
    "# now let's access attributes\n",
    "# we don't need to import the xml library again\n",
    "\n",
    "# some simple xml, but now with attributes\n",
    "xml_str = '<doc><p n=\"1\" type=\"salutation\">Hello World!</p><p n=\"2\" type=\"farewell\">Goodbye!!!</p></doc>'\n",
    "\n",
    "# turn this string into an ElementTree. Think of that as a very specialized version of a python list.\n",
    "xml_elements = ET.fromstring(xml_str)\n",
    "\n",
    "# ElementTrees have a .findall method that can take an xpath expression.\n",
    "# IMPORTANT: being your xpath with '.'\n",
    "# You can iterate over them with a for loop.\n",
    "for p in xml_elements.findall('.//p'):\n",
    "    print(p.attrib['type']) # p.attrib on its own returns a dictionary."
   ]
  },
  {
   "cell_type": "markdown",
   "metadata": {},
   "source": [
    "## Quiz!\n",
    "Change the above code so that it prints out the n attribute of each p element."
   ]
  },
  {
   "cell_type": "code",
   "execution_count": 27,
   "metadata": {
    "collapsed": false
   },
   "outputs": [
    {
     "name": "stdout",
     "output_type": "stream",
     "text": [
      "1\n",
      "2\n"
     ]
    }
   ],
   "source": [
    "# now let's access attributes\n",
    "# we don't need to import the xml library again\n",
    "\n",
    "# some simple xml, but now with attributes\n",
    "xml_str = '<doc><p n=\"1\" type=\"salutation\">Hello World!</p><p n=\"2\" type=\"farewell\">Goodbye!!!</p></doc>'\n",
    "\n",
    "# turn this string into an ElementTree. Think of that as a very specialized version of a python list.\n",
    "xml_elements = ET.fromstring(xml_str)\n",
    "\n",
    "# ElementTrees have a .findall method that can take an xpath expression.\n",
    "# IMPORTANT: being your xpath with '.'\n",
    "# You can iterate over them with a for loop.\n",
    "for p in xml_elements.findall('.//p'):\n",
    "    print(p.attrib['n']) # p.attrib on its own returns a dictionary."
   ]
  },
  {
   "cell_type": "markdown",
   "metadata": {},
   "source": [
    "## An example with real TEI"
   ]
  },
  {
   "cell_type": "code",
   "execution_count": 33,
   "metadata": {
    "collapsed": false
   },
   "outputs": [
    {
     "name": "stdout",
     "output_type": "stream",
     "text": [
      "\n",
      "List found elements:\n",
      "{http://www.tei-c.org/ns/1.0}lb\n",
      "{http://www.tei-c.org/ns/1.0}lb\n",
      "{http://www.tei-c.org/ns/1.0}lb\n",
      "{http://www.tei-c.org/ns/1.0}lb\n",
      "{http://www.tei-c.org/ns/1.0}lb\n",
      "{http://www.tei-c.org/ns/1.0}lb\n",
      "{http://www.tei-c.org/ns/1.0}lb\n",
      "{http://www.tei-c.org/ns/1.0}lb\n",
      "{http://www.tei-c.org/ns/1.0}lb\n",
      "{http://www.tei-c.org/ns/1.0}lb\n",
      "{http://www.tei-c.org/ns/1.0}lb\n",
      "{http://www.tei-c.org/ns/1.0}lb\n",
      "{http://www.tei-c.org/ns/1.0}lb\n",
      "{http://www.tei-c.org/ns/1.0}lb\n",
      "\n",
      "List the text of found elements:\n",
      "στρ\n",
      "Ἀρσι\n",
      "Ἡρακ\n",
      "μερίδο\n",
      "ἀμφόδο\n",
      "None\n",
      "αἶγ\n",
      "None\n",
      "List the value attributes of found elements\n",
      "4\n",
      "7\n",
      "104\n",
      "6\n",
      "10\n",
      "14\n",
      "100\n",
      "8\n"
     ]
    }
   ],
   "source": [
    "url_to_load = \"http://papyri.info/ddbdp/bgu;1;133/source\" \n",
    "f = urllib.request.urlopen(url_to_load)\n",
    "tei_as_string = f.read().decode('utf-8')\n",
    "xml_elements = ET.fromstring(tei_as_string)\n",
    "\n",
    "# IMPORTANT: In the findall(...) statements that follow,\n",
    "# you'll see '{http://www.tei-c.org/ns/1.0}'. Leave it.\n",
    "# But note that you can change the element name.\n",
    "\n",
    "# if you are using your own TEI, you might need to change the XPATH so that is meaningful for your data\n",
    "\n",
    "print(\"\\nList found elements:\")\n",
    "# element.tag returns the name of the current element\n",
    "elements = xml_elements.findall('.//{http://www.tei-c.org/ns/1.0}lb')\n",
    "for element in elements:\n",
    "    print(element.tag)\n",
    "\n",
    "print(\"\\nList the text of found elements:\")\n",
    "# element.text returns the text content of the current element. Here 'expan' elements are found.\n",
    "elements = xml_elements.findall('.//{http://www.tei-c.org/ns/1.0}expan')\n",
    "for element in elements:\n",
    "    print(element.text)\n",
    "\n",
    "print(\"List the value attributes of found elements\")\n",
    "# as you've seen element.attrib, return the attributes\n",
    "elements = xml_elements.findall('.//{http://www.tei-c.org/ns/1.0}num')\n",
    "for element in elements:\n",
    "    print(element.attrib['value'])"
   ]
  },
  {
   "cell_type": "markdown",
   "metadata": {
    "collapsed": false
   },
   "source": [
    "## A little bit of bad news\n",
    "The xml library is simpler than the lxml library. It does not support xpath queries of the form .//num/@value . You have to get all the nums and move through them looking for value attributes using .attrib ."
   ]
  },
  {
   "cell_type": "markdown",
   "metadata": {},
   "source": [
    "## Assignment!\n",
    "You can now fetch your TEI from github, find certain elements within it, and then write a for loop to access those elements individually. The last step is like the 'for color in colors:' loop in Chapter 1.\n",
    "\n",
    "Your assignment is to adapt the code above to do something interesting with your TEI-encoded xml file that is in the github repository. You could find shared words in paragraphs. List all rulers, dates, places, (organs?). How about making links to the wikipedia articles for rulers - or other proper nouns - mentioned in a text? How would you do that?\n",
    "\n",
    "And as I mentioned, you might have to make changes to your TEI so that python can easily work with the elements within your document. That is OK. Just make sure the file remains valid XML.\n"
   ]
  },
  {
   "cell_type": "code",
   "execution_count": 117,
   "metadata": {
    "collapsed": false
   },
   "outputs": [
    {
     "name": "stdout",
     "output_type": "stream",
     "text": [
      "\n",
      "Meter:\n",
      "5\n",
      "-oo|--|--|-oo|-oo|--\n",
      "6\n",
      "-oo|--|-oo|-oo|-oo|--\n",
      "7\n",
      "--|-oo|-oo|--|-oo|--\n",
      "8\n",
      "--|-oo|-oo|-oo|-oo|--\n",
      "9\n",
      "-oo|--|--|-oo|-oo|--\n",
      "10\n",
      "--|--|--|-oo|-oo|--\n",
      "11\n",
      "-oo|--|-oo|--|-oo|--\n",
      "12\n",
      "--|--|--|-oo|-oo|--\n",
      "13\n",
      "-oo|--|-oo|--|-oo|--\n",
      "14\n",
      "-oo|--|--|-oo|--|--\n",
      "15\n",
      "-oo|--|--|--|-oo|--\n",
      "16\n",
      "-oo|-oo|--|--|-oo|--\n",
      "17\n",
      "-oo|--|--|-oo|-oo|--\n",
      "18\n",
      "--|-oo|-oo|-oo|-oo|--\n",
      "19\n",
      "-oo|--|-oo|--|-oo|--\n",
      "20\n",
      "-oo|--|-oo|-oo|-oo|--\n",
      "21\n",
      "-oo|-oo|--|--|-oo|--\n",
      "22\n",
      "--|--|--|--|-oo|--\n",
      "23\n",
      "-oo|--|-oo|--|-oo|--\n",
      "24\n",
      "--|--|--|--|-oo|--\n",
      "25\n",
      "-oo|-oo|--|--|-oo|--\n",
      "26\n",
      "-oo|--|--|-oo|-oo|--\n",
      "27\n",
      "-oo|--|-oo|-oo|-oo|--\n",
      "28\n",
      "-oo|-oo|--|--|-oo|--\n",
      "29\n",
      "-oo|--|-oo|-oo|-oo|--\n",
      "30\n",
      "--|-oo|-oo|--|-oo|--\n",
      "31\n",
      "-oo|--|-oo|-oo|-oo|--\n",
      "32\n",
      "-oo|-oo|--|-oo|-oo|--\n",
      "33\n",
      "-oo|-oo|--|-oo|-oo|--\n",
      "34\n",
      "-oo|--|--|--|-oo|--\n",
      "35\n",
      "-oo|--|-oo|-oo|-oo|--\n",
      "\n",
      "Body Metaphors:\n",
      "ln. 6: unus erat toto naturae vultus in orbe\n",
      "lns. 13-14: nec bracchia longo / margine terrarum porrexerat Amphitrite\n",
      "ln. 33: congeriem secuit sectamque in membra coegit\n",
      "\n",
      "Deity Names\n",
      "Titan\n",
      "Phoebe\n",
      "Amphitrite\n",
      "\n",
      "Notes\n",
      "Line 9 Note: With semina rerum, Ovid loosely alludes to Lucretiuss. Cf. De Rerum Natura 1.54-6: \n",
      "nam tibi de summa caeli ratione deumque\n",
      "disserere incipiam et rerum primordia pandam,\n",
      "unde omnis natura creet res, auctet alatque,\n",
      "quove eadem rursum natura perempta resolvat,\n",
      "quae nos materiem et genitalia corpora rebus\n",
      "reddunda in ratione vocare et semina rerum\n",
      "appellare suemus et haec eadem usurpare\n",
      "corpora prima, quod ex illis sunt omnia primis.\n",
      "Line 9 Note: \"Ovid makes a pun on iners, meaning both sluggish and lacking art, which clarifies the absence of ars in rudis indigestaque moles. The phrase pondus iners itself derives from Ars Amatoria, where Ovid describes the formless stone that is improved by the sculptor's art: 'quae nunc nomen habent operosi signa Myronis,/pondus iners quondam duraque massa fuit'(Ov. AA 3.219-20). What distinguishes chaos from cosmos, then, is the ameliorating influence of art\" (Wheeler 1995: 105). \n",
      "Line 35 Note: \"The verb glomero suggests the image of wool gathered into a ball, particularly if we remember the earlier idea of rudis indigestaque moles (cf. Line 9 Note and Wheeler 1995: 106).\n",
      "\n",
      "\n",
      "Bibliography\n",
      "Anderson, W. (ed.). 1998. Ovid's MetamorphosesBooks 1-5. Norman.\n",
      "Bailey, C. (ed.) 1920. Lucreti De Rerum Natura Libri Sex. Oxford.\n",
      "Wheeler, S. 1995. Imago Mundi: Another View of the Creation in Ovids Metamorphoses. AJP 116: 95-121\n"
     ]
    }
   ],
   "source": [
    "url_to_load = \"https://isaw-ga-3024.github.io/maticic-del-dm3769/XML_Assignment_Week3.xml\" \n",
    "\n",
    "f = urllib.request.urlopen(url_to_load)\n",
    "tei_as_string = f.read().decode('utf-8')\n",
    "\n",
    "xml_elements = ET.fromstring(tei_as_string)\n",
    "\n",
    "print(\"\\nMeter:\")\n",
    "# element.tag returns the name of the current element\n",
    "elements = xml_elements.findall('.//{http://www.tei-c.org/ns/1.0}lb')\n",
    "for element in elements:\n",
    "    print(element.attrib['n'])\n",
    "    print(element.attrib[\"rend\"])\n",
    "    \n",
    "\n",
    "print(\"\\nBody Metaphors:\")\n",
    "# element.tag returns the name of the current element\n",
    "elements = xml_elements.findall('.//{http://www.tei-c.org/ns/1.0}rs')\n",
    "for element in elements:\n",
    "    print(element.attrib['n'])\n",
    "    \n",
    "        \n",
    "print(\"\\nDeity Names\")\n",
    "elements = xml_elements.findall('.//{http://www.tei-c.org/ns/1.0}persName')\n",
    "for element in elements:\n",
    "    print(element.text)\n",
    "    \n",
    "    \n",
    "print(\"\\nNotes\")\n",
    "elements = xml_elements.findall('.//{http://www.tei-c.org/ns/1.0}quote')\n",
    "for element in elements:\n",
    "    print(element.text)\n",
    "    \n",
    "\n",
    "print(\"\\nBibliography\")\n",
    "# as you've seen element.attrib, return the attributes\n",
    "elements = xml_elements.findall('.//{http://www.tei-c.org/ns/1.0}p')\n",
    "for element in elements:\n",
    "    print(element.text)\n"
   ]
  },
  {
   "cell_type": "markdown",
   "metadata": {},
   "source": [
    "## How to turn in your assignment\n",
    "\n",
    "First, exectute the cell with your code in it and make sure the output is what you want.\n",
    "\n",
    "Then choose 'Save and checkpoint' from the \"File\" menu of this notebook.\n",
    "\n",
    "Copy this file, which is 'tei-processing.ipynb' into your folder of the class repository. As usual, commit and sync changes to github. That's it. When loaded from github, the notebook will appear essentially the same as it does to you now."
   ]
  }
 ],
 "metadata": {
  "anaconda-cloud": {},
  "kernelspec": {
   "display_name": "Python [Root]",
   "language": "python",
   "name": "Python [Root]"
  },
  "language_info": {
   "codemirror_mode": {
    "name": "ipython",
    "version": 3
   },
   "file_extension": ".py",
   "mimetype": "text/x-python",
   "name": "python",
   "nbconvert_exporter": "python",
   "pygments_lexer": "ipython3",
   "version": "3.5.2"
  }
 },
 "nbformat": 4,
 "nbformat_minor": 1
}
