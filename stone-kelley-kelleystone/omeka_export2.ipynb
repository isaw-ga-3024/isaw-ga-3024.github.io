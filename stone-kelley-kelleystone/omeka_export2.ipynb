{
 "cells": [
  {
   "cell_type": "code",
   "execution_count": 4,
   "metadata": {
    "collapsed": false,
    "run_control": {}
   },
   "outputs": [
    {
     "ename": "ImportError",
     "evalue": "No module named 'omekaclient'",
     "output_type": "error",
     "traceback": [
      "\u001b[0;31m---------------------------------------------------------------------------\u001b[0m",
      "\u001b[0;31mImportError\u001b[0m                               Traceback (most recent call last)",
      "\u001b[0;32m<ipython-input-4-53bad6c650e3>\u001b[0m in \u001b[0;36m<module>\u001b[0;34m()\u001b[0m\n\u001b[1;32m      1\u001b[0m \u001b[0;31m#! /usr/bin/python\u001b[0m\u001b[0;34m\u001b[0m\u001b[0;34m\u001b[0m\u001b[0m\n\u001b[1;32m      2\u001b[0m \u001b[0;34m\u001b[0m\u001b[0m\n\u001b[0;32m----> 3\u001b[0;31m \u001b[0;32mfrom\u001b[0m \u001b[0momekaclient\u001b[0m \u001b[0;32mimport\u001b[0m \u001b[0mOmekaClient\u001b[0m\u001b[0;34m\u001b[0m\u001b[0m\n\u001b[0m\u001b[1;32m      4\u001b[0m \u001b[0;32mimport\u001b[0m \u001b[0mcsv\u001b[0m\u001b[0;34m\u001b[0m\u001b[0m\n\u001b[1;32m      5\u001b[0m \u001b[0;32mimport\u001b[0m \u001b[0mjson\u001b[0m\u001b[0;34m\u001b[0m\u001b[0m\n",
      "\u001b[0;31mImportError\u001b[0m: No module named 'omekaclient'"
     ]
    }
   ],
   "source": [
    "#! /usr/bin/python\n",
    "\n",
    "from omekaclient import OmekaClient\n",
    "import csv\n",
    "import json\n",
    "import math\n",
    "import time\n",
    "\n",
    "'''\n",
    "Extract top-level metadata and element_texts from items returned by\n",
    "Omeka 2.x API request, and then write to a CSV file. Intended for\n",
    "requests to items, collections, element sets, elements, files, & tags.\n",
    "'''\n",
    "\n",
    "endpoint = 'http://kelleystone.hosting.nyu.edu/final/api'\n",
    "apikey = None\n",
    "resource = 'items'\n",
    "\n",
    "def request(query={}):\n",
    "    response, content = OmekaClient(endpoint, apikey).get(resource, None, query)\n",
    "    if response.status != 200:\n",
    "        print (response.status, response.reason)\n",
    "        exit()\n",
    "    else:\n",
    "        print (response.status, response.reason)\n",
    "        return response, content\n"
   ]
  },
  {
   "cell_type": "code",
   "execution_count": 5,
   "metadata": {
    "button": false,
    "collapsed": false,
    "deletable": true,
    "new_sheet": false,
    "run_control": {
     "read_only": false
    }
   },
   "outputs": [
    {
     "ename": "SyntaxError",
     "evalue": "invalid syntax (<ipython-input-5-6b8fc9ba8d20>, line 11)",
     "output_type": "error",
     "traceback": [
      "\u001b[0;36m  File \u001b[0;32m\"<ipython-input-5-6b8fc9ba8d20>\"\u001b[0;36m, line \u001b[0;32m11\u001b[0m\n\u001b[0;31m    print 'Getting results page ' + str(page) + ' of ' + str(pages) + ' ...'\u001b[0m\n\u001b[0m                                ^\u001b[0m\n\u001b[0;31mSyntaxError\u001b[0m\u001b[0;31m:\u001b[0m invalid syntax\n"
     ]
    }
   ],
   "source": [
    "def unicodify(v):\n",
    "    if type(v) is bool or type(v) is int:\n",
    "       return unicode(v)\n",
    "    else:\n",
    "       return v\n",
    "\n",
    "def get_all_pages(pages):\n",
    "    global data\n",
    "    page = 1\n",
    "    while page <= pages:\n",
    "        print 'Getting results page ' + str(page) + ' of ' + str(pages) + ' ...'\n",
    "        response, content = request({'page': str(page), 'per_page': '50'})\n",
    "        data.extend(json.loads(content))\n",
    "        page += 1\n",
    "        time.sleep(2)\n",
    "\n",
    "# make initial API request; get max pages\n",
    "response, content = request()\n",
    "pages = int(math.ceil(float(response['omeka-total-results'])/50))\n",
    "\n",
    "# declare global variables; get all pages\n",
    "fields = []\n",
    "data = []\n",
    "get_all_pages(pages)\n",
    "\n",
    "for D in data:\n",
    "    if 'tags' in D and D['tags']:\n",
    "        tags = [ d['name'] for d in D['tags'] ]\n",
    "        D['tags'] = ', '.join(tags)\n",
    "    if 'element_texts' in D:\n",
    "        for d in D['element_texts']:\n",
    "            k = d['element']['name']\n",
    "            v = d['text']\n",
    "            D[k] = v\n",
    "    for k, v in D.items():\n",
    "        D[k] = unicodify(v)\n",
    "        if D[k] and type(v) is dict:\n",
    "            for key, value in v.items():\n",
    "                D[k + '_' + key] = unicodify(D[k][key])\n",
    "        if type(v) is list or type(v) is dict:\n",
    "            del D[k] \n",
    "        if v == None:\n",
    "            del D[k]\n",
    "    for k in D.keys():\n",
    "        if k not in fields: fields.append(k)\n",
    "\n",
    "# write to CSV output file using DictWriter instance\n",
    "# by default, fill empty cells with 'None'; un-quote None for empty cell\n",
    "o = open(resource + '_output.csv', 'w')\n",
    "c = csv.DictWriter(o, [f.encode('utf-8', 'replace') for f in sorted(fields)], restval='None', extrasaction='ignore') \n",
    "c.writeheader()\n",
    "for D in data:\n",
    "    c.writerow({k:v.encode('utf-8', 'replace') for k,v in D.items() if isinstance(v, unicode)})\n",
    "\n",
    "o.close()\n",
    "print 'File created: ' + resource + '_output.csv'"
   ]
  }
 ],
 "metadata": {
  "kernelspec": {
   "display_name": "Python 3",
   "language": "python",
   "name": "python3"
  },
  "language_info": {
   "codemirror_mode": {
    "name": "ipython",
    "version": 3
   },
   "file_extension": ".py",
   "mimetype": "text/x-python",
   "name": "python",
   "nbconvert_exporter": "python",
   "pygments_lexer": "ipython3",
   "version": "3.5.0"
  }
 },
 "nbformat": 4,
 "nbformat_minor": 0
}
