{
 "cells": [
  {
   "cell_type": "code",
   "execution_count": 164,
   "metadata": {
    "collapsed": false
   },
   "outputs": [
    {
     "name": "stdout",
     "output_type": "stream",
     "text": [
      "<class 'pandas.core.frame.DataFrame'>\n",
      "<class 'pandas.core.frame.DataFrame'>\n",
      "<class 'pandas.core.frame.DataFrame'>\n",
      "<class 'pandas.core.frame.DataFrame'>\n"
     ]
    }
   ],
   "source": [
    "#import libraries and CSVs, print to ensure they are read correctly\n",
    "\n",
    "import pandas as pd\n",
    "import sqlite3\n",
    "import urllib.request\n",
    "\n",
    "sites = pd.read_csv(\"https://raw.githubusercontent.com/isaw-ga-3024/isaw-ga-3024.github.io/master/stone-kelley-kelleystone/focal_csv.csv\")\n",
    "hierapolis = pd.read_csv(\"https://raw.githubusercontent.com/isaw-ga-3024/isaw-ga-3024.github.io/master/stone-kelley-kelleystone/hierapolis_tumulus.csv\")\n",
    "terms = pd.read_csv(\"https://raw.githubusercontent.com/isaw-ga-3024/isaw-ga-3024.github.io/master/stone-kelley-kelleystone/def_terms.csv\")\n",
    "dates = pd.read_csv(\"https://raw.githubusercontent.com/isaw-ga-3024/isaw-ga-3024.github.io/master/stone-kelley-kelleystone/dates.csv\")\n",
    "\n",
    "print(type(sites))\n",
    "print(type(hierapolis))\n",
    "print(type(terms))\n",
    "print(type(dates))"
   ]
  },
  {
   "cell_type": "code",
   "execution_count": 165,
   "metadata": {
    "collapsed": true
   },
   "outputs": [],
   "source": [
    "#importing visualization framework\n",
    "\n",
    "import pip\n",
    "\n",
    "import matplotlib \n",
    "import matplotlib.pyplot as plt\n",
    "import numpy as np"
   ]
  },
  {
   "cell_type": "code",
   "execution_count": 189,
   "metadata": {
    "collapsed": true
   },
   "outputs": [],
   "source": [
    "#load into memory and the data into SQL\n",
    "\n",
    "conn = sqlite3.connect(':memory:')\n",
    "\n",
    "sites.to_sql('sites', conn, if_exists=\"replace\")\n",
    "hierapolis.to_sql('hierapolis', conn, if_exists=\"replace\")\n",
    "terms.to_sql('terms', conn, if_exists=\"replace\")\n",
    "dates.to_sql('dates', conn, if_exists=\"replace\")"
   ]
  },
  {
   "cell_type": "markdown",
   "metadata": {},
   "source": [
    "# Using the data to find averages and outliers in dimesions"
   ]
  },
  {
   "cell_type": "code",
   "execution_count": 167,
   "metadata": {
    "collapsed": false
   },
   "outputs": [
    {
     "name": "stdout",
     "output_type": "stream",
     "text": [
      "    tumulus_name  no_burial_min  tum_dia\n",
      "0   Tumulus Tp92              2     9.80\n",
      "1     Tumulus NT              4    12.95\n",
      "2   Tumulus T117              4    11.00\n",
      "3    Tumulus T98              2    10.20\n",
      "4    Tumulus T84              6    11.00\n",
      "5   Tumulus 81T1              6    12.50\n",
      "6    Tumulus T51              3     6.80\n",
      "7    Tumulus T50              7     6.50\n",
      "8   Tumulus 35T1              3     9.15\n",
      "9    Tumulus T33              6     8.80\n",
      "10  Tumulus 19T1              4     8.50\n",
      "11   Tumulus T15              7    10.50\n"
     ]
    }
   ],
   "source": [
    "# looking at the number of burials in each tumulus\n",
    "\n",
    "burial_data = pd.read_sql(\"\"\"SELECT tumulus_name,no_burial_min \n",
    "    FROM HIERAPOLIS \n",
    "    WHERE tum_dia >= 0\"\"\", conn)\n",
    "\n",
    "print(dia_data)"
   ]
  },
  {
   "cell_type": "code",
   "execution_count": 168,
   "metadata": {
    "collapsed": false
   },
   "outputs": [
    {
     "data": {
      "text/plain": [
       "no_burial_min    4.352941\n",
       "dtype: float64"
      ]
     },
     "execution_count": 168,
     "metadata": {},
     "output_type": "execute_result"
    }
   ],
   "source": [
    "#finding the average burial number\n",
    "mean(burial_data)"
   ]
  },
  {
   "cell_type": "code",
   "execution_count": 169,
   "metadata": {
    "collapsed": false
   },
   "outputs": [
    {
     "name": "stdout",
     "output_type": "stream",
     "text": [
      "    tumulus_name  no_burial_min  tum_dia\n",
      "0   Tumulus Tp92              2     9.80\n",
      "1     Tumulus NT              4    12.95\n",
      "2   Tumulus T117              4    11.00\n",
      "3    Tumulus T98              2    10.20\n",
      "4    Tumulus T84              6    11.00\n",
      "5   Tumulus 81T1              6    12.50\n",
      "6    Tumulus T51              3     6.80\n",
      "7    Tumulus T50              7     6.50\n",
      "8   Tumulus 35T1              3     9.15\n",
      "9    Tumulus T33              6     8.80\n",
      "10  Tumulus 19T1              4     8.50\n",
      "11   Tumulus T15              7    10.50\n"
     ]
    }
   ],
   "source": [
    "#looking at the number of burials where the tumulus diameter is known (removing dia=0)\n",
    "\n",
    "dia_data = pd.read_sql(\"\"\"SELECT tumulus_name,no_burial_min,tum_dia \n",
    "    FROM HIERAPOLIS \n",
    "    WHERE tum_dia > 0\"\"\", conn)\n",
    "\n",
    "print(dia_data)"
   ]
  },
  {
   "cell_type": "code",
   "execution_count": 170,
   "metadata": {
    "collapsed": false
   },
   "outputs": [
    {
     "data": {
      "text/plain": [
       "tum_dia    9.808333\n",
       "dtype: float64"
      ]
     },
     "execution_count": 170,
     "metadata": {},
     "output_type": "execute_result"
    }
   ],
   "source": [
    "#finding the average tumulus diameter (when dia=0 removed)\n",
    "\n",
    "dia_data2 = pd.read_sql(\"\"\"SELECT tumulus_name,tum_dia \n",
    "    FROM HIERAPOLIS \n",
    "    WHERE tum_dia > 0\"\"\", conn)\n",
    "\n",
    "mean(dia_data2)"
   ]
  },
  {
   "cell_type": "code",
   "execution_count": 171,
   "metadata": {
    "collapsed": false
   },
   "outputs": [
    {
     "name": "stdout",
     "output_type": "stream",
     "text": [
      "   tumulus_name tumulus_type  tum_dia  cham1_l  cham1_w  anti_l  anti_w  \\\n",
      "0  Tumulus Tp92      chamber     9.80     1.82     2.25    1.07    1.47   \n",
      "1  Tumulus 81T1      chamber    12.50     2.95     2.95    1.54    1.64   \n",
      "2   Tumulus T51      chamber     6.80     2.80     2.80    1.38    1.41   \n",
      "3   Tumulus T50      chamber     6.50     2.70     2.70    1.30    1.30   \n",
      "4  Tumulus 35T1      chamber     9.15     2.70     2.70    1.34    1.92   \n",
      "5   Tumulus T33      chamber     8.80     2.70     2.70    1.10    1.31   \n",
      "6  Tumulus 19T1      chamber     8.50     2.70     2.70    1.40    1.60   \n",
      "7   Tumulus T15      chamber    10.50     2.70     2.75    1.36    1.76   \n",
      "\n",
      "   no_burial_min  \n",
      "0              2  \n",
      "1              6  \n",
      "2              3  \n",
      "3              7  \n",
      "4              3  \n",
      "5              6  \n",
      "6              4  \n",
      "7              7  \n"
     ]
    },
    {
     "data": {
      "text/plain": [
       "tum_dia          9.06875\n",
       "cham1_l          2.63375\n",
       "cham1_w          2.69375\n",
       "anti_l           1.31125\n",
       "anti_w           1.55125\n",
       "no_burial_min    4.75000\n",
       "dtype: float64"
      ]
     },
     "execution_count": 171,
     "metadata": {},
     "output_type": "execute_result"
    }
   ],
   "source": [
    "#comparing single chamber tumuli with known measurements and their averages\n",
    "\n",
    "single_data = pd.read_sql(\"\"\"SELECT tumulus_name,tumulus_type,tum_dia,cham1_l,cham1_w,anti_l,anti_w,no_burial_min \n",
    "    FROM HIERAPOLIS\n",
    "    WHERE tum_dia > 0 AND anti_l > 0 AND anti_w > 0 AND tumulus_type = 'chamber'\"\"\", conn)\n",
    "\n",
    "print(single_data)\n",
    "\n",
    "mean(single_data)"
   ]
  },
  {
   "cell_type": "code",
   "execution_count": 172,
   "metadata": {
    "collapsed": false
   },
   "outputs": [
    {
     "name": "stdout",
     "output_type": "stream",
     "text": [
      "   tumulus_name  tumulus_type  tum_dia  cham1_l  cham1_w  cham2_l  cham2_w  \\\n",
      "0    Tumulus NT  dual chamber    12.95      2.6     2.70     1.83     1.87   \n",
      "1  Tumulus T117  dual chamber    11.00      2.6     2.75     1.80     2.60   \n",
      "\n",
      "   anti_l  anti_w  no_burial_min  \n",
      "0    1.18    0.96              4  \n",
      "1    1.20    1.70              4  \n"
     ]
    },
    {
     "data": {
      "text/plain": [
       "tum_dia          11.975\n",
       "cham1_l           2.600\n",
       "cham1_w           2.725\n",
       "cham2_l           1.815\n",
       "cham2_w           2.235\n",
       "anti_l            1.190\n",
       "anti_w            1.330\n",
       "no_burial_min     4.000\n",
       "dtype: float64"
      ]
     },
     "execution_count": 172,
     "metadata": {},
     "output_type": "execute_result"
    }
   ],
   "source": [
    "#comparing dual chamber tumuli with known measurements and their averages\n",
    "\n",
    "dual_data = pd.read_sql(\"\"\"SELECT tumulus_name,tumulus_type,tum_dia,cham1_l,cham1_w,cham2_l,cham2_w,anti_l,anti_w,no_burial_min \n",
    "    FROM HIERAPOLIS\n",
    "    WHERE tum_dia > 0 AND anti_l > 0 AND anti_w > 0 AND tumulus_type = 'dual chamber'\"\"\", conn)\n",
    "\n",
    "print(dual_data)\n",
    "\n",
    "mean(dual_data)"
   ]
  },
  {
   "cell_type": "markdown",
   "metadata": {},
   "source": [
    "# Combining tables"
   ]
  },
  {
   "cell_type": "code",
   "execution_count": 231,
   "metadata": {
    "collapsed": false
   },
   "outputs": [
    {
     "name": "stdout",
     "output_type": "stream",
     "text": [
      "    tumulus_name    earliest_date  early_no\n",
      "0   Tumulus 14T1          unknown         0\n",
      "1   Tumulus 19T1  2nd century BCE      -200\n",
      "2   Tumulus 35T1  2nd century BCE      -200\n",
      "3   Tumulus 81T1  2nd century BCE      -200\n",
      "4    Tumulus C30          unknown         0\n",
      "5     Tumulus NT  1st century BCE      -100\n",
      "6   Tumulus T117  1st century BCE      -100\n",
      "7    Tumulus T15  2nd century BCE      -200\n",
      "8    Tumulus T33          unknown         0\n",
      "9    Tumulus T50   1st century CE         1\n",
      "10   Tumulus T51          unknown         0\n",
      "11   Tumulus T84          unknown         0\n",
      "12   Tumulus T88          unknown         0\n",
      "13   Tumulus T97          unknown         0\n",
      "14   Tumulus T98  1st century BCE      -100\n",
      "15   Tumulus Tp1  1st century BCE      -100\n",
      "16  Tumulus Tp92  1st century BCE      -100\n",
      "    tumulus_name     latest_date  early_no\n",
      "0   Tumulus 14T1  3rd century CE       201\n",
      "1   Tumulus 19T1  3rd century CE       201\n",
      "2   Tumulus 35T1  1st century CE         1\n",
      "3   Tumulus 81T1         unknown         0\n",
      "4    Tumulus C30         unknown         0\n",
      "5     Tumulus NT  3rd century CE       201\n",
      "6   Tumulus T117  4th century CE       301\n",
      "7    Tumulus T15  3rd century CE       201\n",
      "8    Tumulus T33  5th century CE       401\n",
      "9    Tumulus T50         unknown         0\n",
      "10   Tumulus T51  2nd century CE       101\n",
      "11   Tumulus T84  4th century CE       301\n",
      "12   Tumulus T88  2nd century CE       101\n",
      "13   Tumulus T97         unknown         0\n",
      "14   Tumulus T98  4th century CE       301\n",
      "15   Tumulus Tp1  4th century CE       301\n",
      "16  Tumulus Tp92  3rd century CE       201\n"
     ]
    }
   ],
   "source": [
    "#setting date words to their respective starting date numerals\n",
    "\n",
    "early_date = pd.read_sql(\"\"\"SELECT hierapolis.tumulus_name, hierapolis.earliest_date, dates.early_no \n",
    "    FROM HIERAPOLIS, DATES\n",
    "    WHERE hierapolis.earliest_date=dates.date_words \n",
    "    ORDER BY tumulus_name\"\"\", conn)\n",
    "\n",
    "late_date = pd.read_sql(\"\"\"SELECT hierapolis.tumulus_name, hierapolis.latest_date, dates.early_no \n",
    "    FROM HIERAPOLIS, DATES\n",
    "    WHERE hierapolis.latest_date=dates.date_words \n",
    "    ORDER BY tumulus_name\"\"\", conn)\n",
    "\n",
    "print(early_date)\n",
    "print(late_date)"
   ]
  },
  {
   "cell_type": "markdown",
   "metadata": {},
   "source": [
    "# Visualizing the data"
   ]
  },
  {
   "cell_type": "code",
   "execution_count": 174,
   "metadata": {
    "collapsed": false
   },
   "outputs": [
    {
     "data": {
      "text/plain": [
       "<matplotlib.axes._subplots.AxesSubplot at 0x120857908>"
      ]
     },
     "execution_count": 174,
     "metadata": {},
     "output_type": "execute_result"
    },
    {
     "data": {
      "image/png": "[encoded data removed]",
      "text/plain": [
       "<matplotlib.figure.Figure at 0x120836da0>"
      ]
     },
     "metadata": {},
     "output_type": "display_data"
    }
   ],
   "source": [
    "#number of tumuli with specific minimum number of burials\n",
    "\n",
    "tumulus_size = hierapolis['tum_dia'].dropna()\n",
    "burial_numbers = hierapolis['no_burial_min'].dropna()\n",
    "\n",
    "tumulus_size.groupby(burial_numbers).count().sort_values().plot.bar()"
   ]
  },
  {
   "cell_type": "code",
   "execution_count": 212,
   "metadata": {
    "collapsed": false
   },
   "outputs": [
    {
     "data": {
      "text/plain": [
       "<matplotlib.axes._subplots.AxesSubplot at 0x121db34a8>"
      ]
     },
     "execution_count": 212,
     "metadata": {},
     "output_type": "execute_result"
    },
    {
     "data": {
      "image/png": "[encoded data removed]",
      "text/plain": [
       "<matplotlib.figure.Figure at 0x121e52390>"
      ]
     },
     "metadata": {},
     "output_type": "display_data"
    }
   ],
   "source": [
    "#number of tumuli with specific minimum number of burials\n",
    "\n",
    "tumulus_size = hierapolis['tum_dia'].dropna()\n",
    "burials = hierapolis['no_burial_min'].dropna()\n",
    "\n",
    "burials.groupby(burials).count().plot.pie()"
   ]
  },
  {
   "cell_type": "code",
   "execution_count": 232,
   "metadata": {
    "collapsed": false
   },
   "outputs": [
    {
     "data": {
      "text/plain": [
       "earliest_date\n",
       "1st century BCE    Axes(0.125,0.125;0.775x0.775)\n",
       "1st century CE     Axes(0.125,0.125;0.775x0.775)\n",
       "2nd century BCE    Axes(0.125,0.125;0.775x0.775)\n",
       "unknown            Axes(0.125,0.125;0.775x0.775)\n",
       "Name: tum_dia, dtype: object"
      ]
     },
     "execution_count": 232,
     "metadata": {},
     "output_type": "execute_result"
    },
    {
     "data": {
      "image/png": "[encoded data removed]",
      "text/plain": [
       "<matplotlib.figure.Figure at 0x1225c8eb8>"
      ]
     },
     "metadata": {},
     "output_type": "display_data"
    }
   ],
   "source": [
    "#tumulus diameter grouped by date \n",
    "\n",
    "date = hierapolis['earliest_date'].dropna()\n",
    "tum_size = hierapolis['tum_dia'].dropna()\n",
    "\n",
    "tum_size.groupby(date).plot.box()"
   ]
  },
  {
   "cell_type": "markdown",
   "metadata": {},
   "source": [
    "# Text Data"
   ]
  },
  {
   "cell_type": "code",
   "execution_count": 226,
   "metadata": {
    "collapsed": false
   },
   "outputs": [
    {
     "name": "stdout",
     "output_type": "stream",
     "text": [
      "    tumulus_name    earliest_date                                  good_types\n",
      "0   Tumulus Tp92  1st century BCE                 sarcophagus, pottery, stele\n",
      "1    Tumulus Tp1  1st century BCE               common terracotta unguentaria\n",
      "2     Tumulus NT  1st century BCE                                     unknown\n",
      "3   Tumulus T117  1st century BCE  oil lamps, fragmented unguentaria, pottery\n",
      "4    Tumulus T98  1st century BCE                      pottery, glass, a coin\n",
      "5    Tumulus T97          unknown                                 sarcophagus\n",
      "6    Tumulus T88          unknown                          sarcophagus, stele\n",
      "7    Tumulus T84          unknown        stele, oil lamps, several sarcophagi\n",
      "8   Tumulus 81T1  2nd century BCE                         sarcophagus, cippus\n",
      "9    Tumulus T51          unknown                                 inscription\n",
      "10   Tumulus T50   1st century CE                                 small finds\n",
      "11  Tumulus 35T1  2nd century BCE                        pottery, small finds\n",
      "12   Tumulus T33          unknown                                       coins\n",
      "13  Tumulus 19T1  2nd century BCE                              two sarcophagi\n",
      "14   Tumulus T15  2nd century BCE                                       stele\n",
      "15  Tumulus 14T1          unknown                                   oil lamps\n",
      "16   Tumulus C30          unknown                                        none\n"
     ]
    }
   ],
   "source": [
    "#grave goods\n",
    "\n",
    "gg_data = pd.read_sql(\"\"\"SELECT tumulus_name,earliest_date,good_types \n",
    "    FROM HIERAPOLIS \"\"\", conn)\n",
    "print(gg_data)"
   ]
  },
  {
   "cell_type": "code",
   "execution_count": 222,
   "metadata": {
    "collapsed": false
   },
   "outputs": [
    {
     "name": "stdout",
     "output_type": "stream",
     "text": [
      "    tumulus_name                  construction                       material\n",
      "0   Tumulus Tp92  masonry with Galatian vaults                     travertine\n",
      "1    Tumulus Tp1                       masonry        unfinished stone blocks\n",
      "2     Tumulus NT                       masonry                  marble blocks\n",
      "3   Tumulus T117                ashlar masonry                     travertine\n",
      "4    Tumulus T98                ashlar masonry           porous marble blocks\n",
      "5    Tumulus T97       pseudo-isodomic masonry               cut stone blocks\n",
      "6    Tumulus T88                       masonry               cut stone blocks\n",
      "7    Tumulus T84                       masonry                     travertine\n",
      "8   Tumulus 81T1                       masonry               cut stone blocks\n",
      "9    Tumulus T51                ashlar masonry               limestone blocks\n",
      "10   Tumulus T50                       masonry               cut stone blocks\n",
      "11  Tumulus 35T1                ashlar masonry               cut stone blocks\n",
      "12   Tumulus T33                ashlar masonry  cut and polished stone blocks\n",
      "13  Tumulus 19T1                       masonry               limestone blocks\n",
      "14   Tumulus T15                ashlar masonry               limestone blocks\n",
      "15  Tumulus 14T1                       masonry               limestone blocks\n",
      "16   Tumulus C30                       masonry               limestone blocks\n"
     ]
    }
   ],
   "source": [
    "#construction methods and materials\n",
    "\n",
    "con_data = pd.read_sql(\"\"\"SELECT tumulus_name,construction,material\n",
    "    FROM HIERAPOLIS\"\"\", conn)\n",
    "print(con_data)"
   ]
  },
  {
   "cell_type": "code",
   "execution_count": 224,
   "metadata": {
    "collapsed": false
   },
   "outputs": [
    {
     "name": "stdout",
     "output_type": "stream",
     "text": [
      "    tumulus_name  tumulus_type  tum_dia       arch_other1   arch_other2  \\\n",
      "0   Tumulus Tp92       chamber     9.80         anticella        dromos   \n",
      "1    Tumulus Tp1       chamber     0.00         anticella          None   \n",
      "2     Tumulus NT  dual chamber    12.95         anticella        dromos   \n",
      "3   Tumulus T117  dual chamber    11.00  dromos-anticella     crepidoma   \n",
      "4    Tumulus T98  dual chamber    10.20         anticella        dromos   \n",
      "5    Tumulus T97       chamber     0.00         anticella        dromos   \n",
      "6    Tumulus T88  dual chamber     0.00         anticella          None   \n",
      "7    Tumulus T84  dual chamber    11.00            dromos     crepidoma   \n",
      "8   Tumulus 81T1       chamber    12.50         anticella        dromos   \n",
      "9    Tumulus T51       chamber     6.80  dromos-anticella     crepidoma   \n",
      "10   Tumulus T50       chamber     6.50         anticella     crepidoma   \n",
      "11  Tumulus 35T1       chamber     9.15         anticella        dromos   \n",
      "12   Tumulus T33       chamber     8.80            dromos     crepidoma   \n",
      "13  Tumulus 19T1       chamber     8.50         anticella        dromos   \n",
      "14   Tumulus T15       chamber    10.50         anticella        dromos   \n",
      "15  Tumulus 14T1       chamber     0.00         anticella  masonry wall   \n",
      "16   Tumulus C30       chamber     0.00            dromos          None   \n",
      "\n",
      "        arch_other3  \n",
      "0         crepidoma  \n",
      "1              None  \n",
      "2         crepidoma  \n",
      "3              None  \n",
      "4         crepidoma  \n",
      "5         crepidoma  \n",
      "6              None  \n",
      "7              None  \n",
      "8         crepidoma  \n",
      "9              None  \n",
      "10  external dromos  \n",
      "11        crepidoma  \n",
      "12             None  \n",
      "13        crepidoma  \n",
      "14        crepidoma  \n",
      "15             None  \n",
      "16             None  \n"
     ]
    }
   ],
   "source": [
    "#tumulus architectural elements\n",
    "\n",
    "arch_data = pd.read_sql(\"\"\"SELECT tumulus_name,tumulus_type,tum_dia,arch_other1,arch_other2,arch_other3\n",
    "    FROM HIERAPOLIS \"\"\", conn)\n",
    "print(arch_data)"
   ]
  },
  {
   "cell_type": "code",
   "execution_count": 225,
   "metadata": {
    "collapsed": false
   },
   "outputs": [
    {
     "name": "stdout",
     "output_type": "stream",
     "text": [
      "                            term  \\\n",
      "0                        chamber   \n",
      "1                   dual chamber   \n",
      "2                      anticella   \n",
      "3                         dromos   \n",
      "4                      crepidoma   \n",
      "5               dromos-anticella   \n",
      "6                   masonry wall   \n",
      "7                external dromos   \n",
      "8                        masonry   \n",
      "9                 ashlar masonry   \n",
      "10  masonry with Galatain vaults   \n",
      "11       pseudo-isodomic masonry   \n",
      "12                    inhumation   \n",
      "\n",
      "                                           definition  \n",
      "0    a single large room within the tumulus structure  \n",
      "1                   a tumulus containing two chambers  \n",
      "2   a small room serving as an entranceway to the ...  \n",
      "3           an entrance passageway inside the tumulus  \n",
      "4          the platform on which the tumulus is built  \n",
      "5       an entranceway room smaller than an anticella  \n",
      "6   wall constructed in the masonry style, located...  \n",
      "7   an entrance passageway located outside the tum...  \n",
      "8   finished or unfinished cut stone laid horizont...  \n",
      "9   finely finished stone blocks in horizontal cou...  \n",
      "10  masonry with vaults created by setting stone s...  \n",
      "11  masonry style with stone blocks placed in alte...  \n",
      "12  the ritual of placing a corpse in a grave, bur...  \n"
     ]
    }
   ],
   "source": [
    "#terminology definitions\n",
    "\n",
    "print(terms)"
   ]
  },
  {
   "cell_type": "markdown",
   "metadata": {},
   "source": [
    "# Link to Carto Map"
   ]
  },
  {
   "cell_type": "code",
   "execution_count": 216,
   "metadata": {
    "collapsed": false
   },
   "outputs": [
    {
     "ename": "SyntaxError",
     "evalue": "invalid syntax (<ipython-input-216-ea8130c2c7fb>, line 1)",
     "output_type": "error",
     "traceback": [
      "\u001b[0;36m  File \u001b[0;32m\"<ipython-input-216-ea8130c2c7fb>\"\u001b[0;36m, line \u001b[0;32m1\u001b[0m\n\u001b[0;31m    https://kelleystone.carto.com/viz/8909d1fc-aa9d-11e6-a9af-0ee66e2c9693/public_map\u001b[0m\n\u001b[0m         ^\u001b[0m\n\u001b[0;31mSyntaxError\u001b[0m\u001b[0;31m:\u001b[0m invalid syntax\n"
     ]
    }
   ],
   "source": [
    "https://kelleystone.carto.com/viz/8909d1fc-aa9d-11e6-a9af-0ee66e2c9693/public_map"
   ]
  },
  {
   "cell_type": "code",
   "execution_count": 217,
   "metadata": {
    "collapsed": false
   },
   "outputs": [
    {
     "data": {
      "text/plain": [
       "True"
      ]
     },
     "execution_count": 217,
     "metadata": {},
     "output_type": "execute_result"
    }
   ],
   "source": [
    "import webbrowser\n",
    "webbrowser.open(\"https://kelleystone.carto.com/viz/8909d1fc-aa9d-11e6-a9af-0ee66e2c9693/public_map\")\n"
   ]
  }
 ],
 "metadata": {
  "anaconda-cloud": {},
  "kernelspec": {
   "display_name": "Python [default]",
   "language": "python",
   "name": "python3"
  },
  "language_info": {
   "codemirror_mode": {
    "name": "ipython",
    "version": 3
   },
   "file_extension": ".py",
   "mimetype": "text/x-python",
   "name": "python",
   "nbconvert_exporter": "python",
   "pygments_lexer": "ipython3",
   "version": "3.5.2"
  }
 },
 "nbformat": 4,
 "nbformat_minor": 1
}
