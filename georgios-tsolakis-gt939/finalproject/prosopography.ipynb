{
 "cells": [
  {
   "cell_type": "markdown",
   "metadata": {},
   "source": [
    "RDFLib aims to be a pythonic RDF API, a Graph is a python collection of RDF \n",
    "Subject, Predicate, Object Triples."
   ]
  },
  {
   "cell_type": "code",
   "execution_count": 2,
   "metadata": {
    "collapsed": false
   },
   "outputs": [],
   "source": [
    "import rdflib\n",
    "g = rdflib.Graph()\n",
    "\n",
    "result = g.parse('epigraphy.ttl', format=\"turtle\")"
   ]
  },
  {
   "cell_type": "code",
   "execution_count": 3,
   "metadata": {
    "collapsed": false
   },
   "outputs": [
    {
     "name": "stdout",
     "output_type": "stream",
     "text": [
      "23\n"
     ]
    }
   ],
   "source": [
    "#Print the length of your ttl \n",
    "print(len(g))    "
   ]
  },
  {
   "cell_type": "code",
   "execution_count": 4,
   "metadata": {
    "collapsed": false
   },
   "outputs": [
    {
     "name": "stdout",
     "output_type": "stream",
     "text": [
      "http://aph/vocab/name http://www.w3.org/1999/02/22-rdf-syntax-ns#type http://www.w3.org/2000/01/rdf-schema#Property\n",
      "http://aph/ids/0000490 http://www.w3.org/1999/02/22-rdf-syntax-ns#type http://aph/vocab/person\n",
      "http://aph/vocab/person http://www.w3.org/2000/01/rdf-schema#label Person\n",
      "http://aph/ids/0000956 http://www.w3.org/1999/02/22-rdf-syntax-ns#type http://aph/vocab/person\n",
      "http://aph/ids/a000013 http://aph/vocab/name anonymous\n",
      "http://aph/ids/0000441 http://aph/vocab/name Aristokles Molossos\n",
      "http://aph/ids/0000441 http://aph/vocab/hasfather http://aph/ids/0000440\n",
      "http://aph/vocab/person http://www.w3.org/1999/02/22-rdf-syntax-ns#type http://www.w3.org/2000/01/rdf-schema#Class\n",
      "http://aph/ids/a000013 http://aph/vocab/hasfather http://aph/ids/0000440\n",
      "http://aph/vocab/name http://www.w3.org/2000/01/rdf-schema#label Name\n",
      "http://aph/ids/0000440 http://aph/vocab/hasfather http://aph/ids/0000490\n",
      "http://aph/ids/0001383 http://aph/vocab/hasfather http://aph/ids/0000490\n",
      "http://aph/ids/0000956 http://aph/vocab/hasfather http://aph/ids/0000440\n",
      "http://aph/ids/0001383 http://aph/vocab/name Kaikos Papias\n",
      "http://aph/ids/a000013 http://www.w3.org/1999/02/22-rdf-syntax-ns#type http://aph/vocab/person\n",
      "http://aph/ids/0000441 http://www.w3.org/1999/02/22-rdf-syntax-ns#type http://aph/vocab/person\n",
      "http://aph/ids/0000490 http://aph/vocab/name Artemidoros\n",
      "http://aph/ids/0000440 http://aph/vocab/name Aristokles Molossos\n",
      "http://aph/ids/0001383 http://www.w3.org/1999/02/22-rdf-syntax-ns#type http://aph/vocab/person\n",
      "http://aph/ids/0000440 http://www.w3.org/1999/02/22-rdf-syntax-ns#type http://aph/vocab/person\n",
      "http://aph/vocab/hasfather http://www.w3.org/1999/02/22-rdf-syntax-ns#type http://www.w3.org/2000/01/rdf-schema#Property\n",
      "http://aph/vocab/hasfather http://www.w3.org/2000/01/rdf-schema#label Has father\n",
      "http://aph/ids/0000956 http://aph/vocab/name Ermas Molossos\n"
     ]
    }
   ],
   "source": [
    "for s, p, o in g:\n",
    "    print(s, p, o)"
   ]
  },
  {
   "cell_type": "code",
   "execution_count": 5,
   "metadata": {
    "collapsed": false
   },
   "outputs": [],
   "source": [
    "#try this to see their type\n",
    "#for stmt in g:\n",
    "#    print(stmt)"
   ]
  },
  {
   "cell_type": "markdown",
   "metadata": {},
   "source": [
    "The components of the triples are URIs (resources) or Literals (values), URIs are grouped together by namespace, common namespaces are included in RDFLib:"
   ]
  },
  {
   "cell_type": "code",
   "execution_count": 6,
   "metadata": {
    "collapsed": true
   },
   "outputs": [],
   "source": [
    "semweb=rdflib.URIRef(\"epigraphy.ttl\")\n",
    "type=g.value(semweb, rdflib.RDFS.label)"
   ]
  },
  {
   "cell_type": "markdown",
   "metadata": {},
   "source": [
    "Print each person whose father's name is preserved"
   ]
  },
  {
   "cell_type": "code",
   "execution_count": 7,
   "metadata": {
    "collapsed": false,
    "scrolled": true
   },
   "outputs": [
    {
     "name": "stdout",
     "output_type": "stream",
     "text": [
      "The name of http://aph/ids/0001383's father is preserved\n",
      "The name of http://aph/ids/0000440's father is preserved\n",
      "The name of http://aph/ids/0000441's father is preserved\n",
      "The name of http://aph/ids/0000956's father is preserved\n",
      "The name of http://aph/ids/a000013's father is preserved\n"
     ]
    }
   ],
   "source": [
    "qres = g.query(\n",
    "    \"\"\"SELECT ?s\n",
    "    WHERE \n",
    "    {\n",
    "    ?s aphvocab:hasfather ?o .\n",
    "    } \n",
    "    \"\"\")\n",
    "\n",
    "for row in qres:\n",
    "    print(\"The name of %s's father is preserved\" % row )"
   ]
  },
  {
   "cell_type": "markdown",
   "metadata": {},
   "source": [
    "The name of each person in prosopography is"
   ]
  },
  {
   "cell_type": "code",
   "execution_count": 8,
   "metadata": {
    "collapsed": false
   },
   "outputs": [
    {
     "name": "stdout",
     "output_type": "stream",
     "text": [
      "The name of http://aph/ids/a000013 is anonymous\n",
      "The name of http://aph/ids/0000441 is Aristokles Molossos\n",
      "The name of http://aph/ids/0000440 is Aristokles Molossos\n",
      "The name of http://aph/ids/0000490 is Artemidoros\n",
      "The name of http://aph/ids/0000956 is Ermas Molossos\n",
      "The name of http://aph/ids/0001383 is Kaikos Papias\n"
     ]
    }
   ],
   "source": [
    "qres = g.query(\n",
    "    \"\"\"SELECT ?s ?o\n",
    "    WHERE \n",
    "    {\n",
    "    ?s aphvocab:name ?o .\n",
    "    } \n",
    "    \"\"\")\n",
    "\n",
    "for row in qres:\n",
    "    print(\"The name of %s is %s\" % (row.s, row.o))"
   ]
  },
  {
   "cell_type": "markdown",
   "metadata": {},
   "source": [
    "Print the id of each person whose father's name is preserved along with his father's id"
   ]
  },
  {
   "cell_type": "code",
   "execution_count": 9,
   "metadata": {
    "collapsed": false
   },
   "outputs": [
    {
     "name": "stdout",
     "output_type": "stream",
     "text": [
      "The name of http://aph/ids/0001383 is http://aph/ids/0000490\n",
      "The name of http://aph/ids/0000440 is http://aph/ids/0000490\n",
      "The name of http://aph/ids/0000441 is http://aph/ids/0000440\n",
      "The name of http://aph/ids/0000956 is http://aph/ids/0000440\n",
      "The name of http://aph/ids/a000013 is http://aph/ids/0000440\n"
     ]
    }
   ],
   "source": [
    "qres = g.query(\n",
    "    \"\"\"SELECT ?s ?o\n",
    "    WHERE \n",
    "    {\n",
    "    ?s aphvocab:hasfather ?o .\n",
    "    } \n",
    "    \"\"\")\n",
    "\n",
    "for row in qres:\n",
    "    print(\"The name of %s is %s\" % (row.s, row.o))"
   ]
  },
  {
   "cell_type": "markdown",
   "metadata": {},
   "source": [
    "Print all the persons with their id and the id of their fathers."
   ]
  },
  {
   "cell_type": "code",
   "execution_count": 10,
   "metadata": {
    "collapsed": false
   },
   "outputs": [
    {
     "name": "stdout",
     "output_type": "stream",
     "text": [
      "Kaikos Papias (0001383) is son of 0000490\n",
      "Aristokles Molossos (0000440) is son of 0000490\n",
      "Aristokles Molossos (0000441) is son of 0000440\n",
      "Ermas Molossos (0000956) is son of 0000440\n",
      "anonymous (a000013) is son of 0000440\n"
     ]
    }
   ],
   "source": [
    "qres = g.query(\n",
    "    \"\"\"SELECT ?person ?name ?father\n",
    "    WHERE \n",
    "    {\n",
    "    ?person aphvocab:name ?name ;\n",
    "            aphvocab:hasfather ?father .    \n",
    "    }\n",
    "    \"\"\")\n",
    "\n",
    "for row in qres:\n",
    "    print(\"%s (%s) is son of %s\" % (row.name, row.person.replace(\"http://aph/ids/\",\"\"), row.father.replace(\"http://aph/ids/\",\"\")))"
   ]
  },
  {
   "cell_type": "markdown",
   "metadata": {},
   "source": [
    "Find the name of the father"
   ]
  },
  {
   "cell_type": "code",
   "execution_count": 11,
   "metadata": {
    "collapsed": false
   },
   "outputs": [
    {
     "name": "stdout",
     "output_type": "stream",
     "text": [
      "http://aph/ids/0001383 is son of Artemidoros\n",
      "http://aph/ids/0000440 is son of Artemidoros\n",
      "http://aph/ids/0000441 is son of Aristokles Molossos\n",
      "http://aph/ids/0000956 is son of Aristokles Molossos\n",
      "http://aph/ids/a000013 is son of Aristokles Molossos\n"
     ]
    }
   ],
   "source": [
    "qres = g.query(\n",
    "    \"\"\"SELECT ?person ?name\n",
    "    WHERE \n",
    "    {\n",
    "    ?person (aphvocab:hasfather/aphvocab:name) ?name\n",
    "    }        \n",
    "    \"\"\")\n",
    "\n",
    "for row in qres:\n",
    "    print(\"%s is son of %s\" % (row.person, row.name))"
   ]
  },
  {
   "cell_type": "markdown",
   "metadata": {},
   "source": [
    "Person (id) is the son of Person (id)"
   ]
  },
  {
   "cell_type": "code",
   "execution_count": 84,
   "metadata": {
    "collapsed": false
   },
   "outputs": [
    {
     "name": "stdout",
     "output_type": "stream",
     "text": [
      "Aristokles Molossos (0000440) is son of Artemidoros (0000490)\n",
      "Aristokles Molossos (0000441) is son of Aristokles Molossos (0000440)\n",
      "Ermas Molossos (0000956) is son of Aristokles Molossos (0000440)\n",
      "Kaikos Papias (0001383) is son of Artemidoros (0000490)\n",
      "anonymous (a000013) is son of Aristokles Molossos (0000440)\n"
     ]
    }
   ],
   "source": [
    "qres = g.query(\n",
    "    \"\"\"SELECT ?person ?name ?father ?fathersname\n",
    "    WHERE \n",
    "    {\n",
    "    ?person aphvocab:name ?name ;\n",
    "            aphvocab:hasfather ?father ;\n",
    "            aphvocab:hasfather [ aphvocab:name ?fathersname ] .\n",
    "    }\n",
    "   \n",
    "   ORDER BY ?person\n",
    "   \"\"\")\n",
    "\n",
    "for row in qres:\n",
    "    print(\"%s (%s) is son of %s (%s)\" % (row.name, row.person.replace(\"http://aph/ids/\",\"\"), row.fathersname, row.father.replace(\"http://aph/ids/\",\"\")))"
   ]
  },
  {
   "cell_type": "markdown",
   "metadata": {},
   "source": [
    "Person (id) is the son of Person (id) and the grandson of Person (id) (1st try)"
   ]
  },
  {
   "cell_type": "code",
   "execution_count": 83,
   "metadata": {
    "collapsed": false
   },
   "outputs": [
    {
     "name": "stdout",
     "output_type": "stream",
     "text": [
      "Aristokles Molossos (0000441) is son of Aristokles Molossos (0000440), son of Artemidoros (0000490)\n",
      "Ermas Molossos (0000956) is son of Aristokles Molossos (0000440), son of Artemidoros (0000490)\n",
      "anonymous (a000013) is son of Aristokles Molossos (0000440), son of Artemidoros (0000490)\n"
     ]
    }
   ],
   "source": [
    "qres = g.query(\n",
    "    \"\"\"SELECT ?person ?name ?father ?fathersname ?grandfather ?grandfathername \n",
    "    WHERE \n",
    "    {\n",
    "    ?person aphvocab:name ?name ;\n",
    "            aphvocab:hasfather ?father ;\n",
    "            aphvocab:hasfather [ aphvocab:name ?fathersname ] ;\n",
    "            aphvocab:hasfather [ aphvocab:hasfather ?grandfather ] ;\n",
    "            aphvocab:hasfather [ aphvocab:name ?grandfathername ] .\n",
    "\n",
    "    }\n",
    "    ORDER BY ?person\n",
    "    \"\"\")\n",
    "\n",
    "for row in qres:\n",
    "    print(\"%s (%s) is son of %s (%s), son of %s (%s)\" % (row.name, row.person.replace(\"http://aph/ids/\",\"\"), row.fathersname, row.father.replace(\"http://aph/ids/\",\"\"), row.grandfathername, row.grandfather.replace(\"http://aph/ids/\",\"\")))"
   ]
  },
  {
   "cell_type": "markdown",
   "metadata": {},
   "source": [
    "Person (id) is the son of Person (id) and the grandson of Person (id) (2st try)"
   ]
  },
  {
   "cell_type": "code",
   "execution_count": 386,
   "metadata": {
    "collapsed": false
   },
   "outputs": [
    {
     "name": "stdout",
     "output_type": "stream",
     "text": [
      "Aristokles Molossos (http://aph/ids/0000440) is son of None (None), son of None (None)\n",
      "Aristokles Molossos (http://aph/ids/0000441) is son of Aristokles Molossos (http://aph/ids/0000440), son of Artemidoros (http://aph/ids/0000490)\n",
      "Artemidoros (http://aph/ids/0000490) is son of None (None), son of None (None)\n",
      "Ermas Molossos (http://aph/ids/0000956) is son of Aristokles Molossos (http://aph/ids/0000440), son of Artemidoros (http://aph/ids/0000490)\n",
      "Kaikos Papias (http://aph/ids/0001383) is son of None (None), son of None (None)\n",
      "anonymous (http://aph/ids/a000013) is son of Aristokles Molossos (http://aph/ids/0000440), son of Artemidoros (http://aph/ids/0000490)\n"
     ]
    }
   ],
   "source": [
    "qres = g.query(\n",
    "    \"\"\"SELECT ?person ?name ?father ?fathersname ?grandfather ?grandfathername \n",
    "    WHERE \n",
    "    {\n",
    "    ?person aphvocab:name ?name .\n",
    "    OPTIONAL\n",
    "    { \n",
    "    ?person aphvocab:hasfather ?father ;\n",
    "            aphvocab:hasfather ?father ;\n",
    "            aphvocab:hasfather [ aphvocab:name ?fathersname ] ;\n",
    "            aphvocab:hasfather [ aphvocab:hasfather ?grandfather ] ;\n",
    "            aphvocab:hasfather [ aphvocab:name ?grandfathername ]\n",
    "    } .\n",
    "    }\n",
    "    ORDER BY ?person\n",
    "    \"\"\")\n",
    "\n",
    "for row in qres:\n",
    "    print(\"%s (%s) is son of %s (%s), son of %s (%s)\" % (row.name, row.person, row.fathersname, row.father, row.grandfathername, row.grandfather))"
   ]
  },
  {
   "cell_type": "markdown",
   "metadata": {},
   "source": [
    "TEST of VALUES"
   ]
  },
  {
   "cell_type": "code",
   "execution_count": 288,
   "metadata": {
    "collapsed": false,
    "scrolled": false
   },
   "outputs": [
    {
     "name": "stdout",
     "output_type": "stream",
     "text": [
      "hasfather 0000440\n"
     ]
    }
   ],
   "source": [
    "\n",
    "qres = g.query(\n",
    "    \"\"\"SELECT ?predicate ?person\n",
    "    WHERE \n",
    "    {\n",
    "    }\n",
    "    VALUES (?predicate ?person)\n",
    "    {\n",
    "    (aphvocab:hasfather \"http://aph/ids/0000440\" )\n",
    "    }\n",
    "    \"\"\")\n",
    "\n",
    "for row in qres:\n",
    "    print(row.predicate.replace(\"http://aph/vocab/\",\"\"), row.person.replace(\"http://aph/ids/\",\"\"))"
   ]
  },
  {
   "cell_type": "code",
   "execution_count": 289,
   "metadata": {
    "collapsed": false
   },
   "outputs": [
    {
     "name": "stdout",
     "output_type": "stream",
     "text": [
      "Aristokles Molossos (0000440) \t is son of Artemidoros (0000490)\n",
      "Aristokles Molossos (0000441) \t is son of Aristokles Molossos (0000440)\n",
      "Ermas Molossos (0000956) \t is son of Aristokles Molossos (0000440)\n",
      "Kaikos Papias (0001383) \t is son of Artemidoros (0000490)\n",
      "anonymous (a000013) \t is son of Aristokles Molossos (0000440)\n"
     ]
    }
   ],
   "source": [
    "qres = g.query(\n",
    "    \"\"\"SELECT ?person ?name ?father ?fathersname\n",
    "    WHERE \n",
    "    {\n",
    "    ?person aphvocab:name ?name ;\n",
    "            aphvocab:hasfather ?father ;\n",
    "            aphvocab:hasfather [ aphvocab:name ?fathersname ] .\n",
    "    }\n",
    "   \n",
    "   ORDER BY ?person\n",
    "   \"\"\")\n",
    "\n",
    "for row in qres:\n",
    "    print(\"%s (%s) \\t is son of %s (%s)\" % (row.name, row.person.replace(\"http://aph/ids/\",\"\"), row.fathersname, row.father.replace(\"http://aph/ids/\",\"\")))"
   ]
  },
  {
   "cell_type": "code",
   "execution_count": 315,
   "metadata": {
    "collapsed": false
   },
   "outputs": [
    {
     "name": "stdout",
     "output_type": "stream",
     "text": [
      "Aristokles Molossos 0000440 Artemidoros 0000490\n",
      "Aristokles Molossos 0000441 Aristokles Molossos 0000440\n",
      "Ermas Molossos 0000956 Aristokles Molossos 0000440\n",
      "Kaikos Papias 0001383 Artemidoros 0000490\n",
      "anonymous a000013 Aristokles Molossos 0000440\n"
     ]
    }
   ],
   "source": [
    "qres = g.query(\n",
    "    \"\"\"SELECT ?person ?name ?father ?fathersname\n",
    "    WHERE \n",
    "    {\n",
    "    ?person aphvocab:name ?name ;\n",
    "            aphvocab:hasfather ?father ;\n",
    "            aphvocab:hasfather [ aphvocab:name ?fathersname ] .\n",
    "    }\n",
    "   \n",
    "   ORDER BY ?person\n",
    "   \"\"\")\n",
    "\n",
    "for row in qres:\n",
    "    print(row.name, row.person.replace(\"http://aph/ids/\",\"\"), row.fathersname, row.father.replace(\"http://aph/ids/\",\"\"))"
   ]
  },
  {
   "cell_type": "code",
   "execution_count": 361,
   "metadata": {
    "collapsed": false
   },
   "outputs": [
    {
     "name": "stdout",
     "output_type": "stream",
     "text": [
      "NAME                          |ID                            |FATHER'S NAME                 |FATHER'S ID                   \n",
      "Aristokles Molossos           |http://aph/ids/0000440        |Artemidoros                   |http://aph/ids/0000490        \n",
      "Aristokles Molossos           |http://aph/ids/0000441        |Aristokles Molossos           |http://aph/ids/0000440        \n",
      "Ermas Molossos                |http://aph/ids/0000956        |Aristokles Molossos           |http://aph/ids/0000440        \n",
      "Kaikos Papias                 |http://aph/ids/0001383        |Artemidoros                   |http://aph/ids/0000490        \n",
      "anonymous                     |http://aph/ids/a000013        |Aristokles Molossos           |http://aph/ids/0000440        \n"
     ]
    }
   ],
   "source": [
    "qres = g.query(\n",
    "   \n",
    "    \"\"\"SELECT ?name ?person ?fathersname ?father \n",
    "    WHERE \n",
    "    {\n",
    "    ?person aphvocab:name ?name ;\n",
    "            aphvocab:hasfather ?father ;\n",
    "            aphvocab:hasfather [ aphvocab:name ?fathersname ] .\n",
    "    }\n",
    "   \n",
    "   ORDER BY ?person\n",
    "   \"\"\")\n",
    "\n",
    "\n",
    "\n",
    "template = \"{0:30}|{1:30}|{2:30}|{3:30}\" #column widths: 8, 10, 15, 7, 10\n",
    "print(template.format(\"NAME\", \"ID\", \"FATHER'S NAME\", \"FATHER'S ID\")) # header\n",
    "for rec in qres: \n",
    "    print(template.format(*rec))"
   ]
  },
  {
   "cell_type": "code",
   "execution_count": 323,
   "metadata": {
    "collapsed": false
   },
   "outputs": [],
   "source": [
    "#template = \"{0:30}|{1:30}|{2:30}|{3:30}|{4:30}|{5:30}\" #column widths: 8, 10, 15, 7, 10\n",
    "#print(template.format(\"NAME\", \"ID\", \"FATHER'S NAME\", \"FATHER'S ID\", \"GRANDFATHER\", \"GRANDFATHER'S ID\")) # header\n",
    "#for rec in qres: \n",
    "#      print(template.format(*rec))"
   ]
  },
  {
   "cell_type": "code",
   "execution_count": 442,
   "metadata": {
    "collapsed": false
   },
   "outputs": [
    {
     "name": "stdout",
     "output_type": "stream",
     "text": [
      "NAME                \tID                  \tFATHER'S NAME       \tFATHER'S ID         \tGRANDFATHER         \tGRANDFATHER'S ID    \n",
      "Aristokles Molossos \thttp://aph/ids/0000440\tNone                \tNone                \tNone                \tNone                \n",
      "Aristokles Molossos \thttp://aph/ids/0000441\tAristokles Molossos \thttp://aph/ids/0000440\tArtemidoros         \thttp://aph/ids/0000490\n",
      "Artemidoros         \thttp://aph/ids/0000490\tNone                \tNone                \tNone                \tNone                \n",
      "Ermas Molossos      \thttp://aph/ids/0000956\tAristokles Molossos \thttp://aph/ids/0000440\tArtemidoros         \thttp://aph/ids/0000490\n",
      "Kaikos Papias       \thttp://aph/ids/0001383\tNone                \tNone                \tNone                \tNone                \n",
      "anonymous           \thttp://aph/ids/a000013\tAristokles Molossos \thttp://aph/ids/0000440\tArtemidoros         \thttp://aph/ids/0000490\n"
     ]
    }
   ],
   "source": [
    "qres = g.query(\n",
    "    \"\"\"SELECT ?person ?name ?father ?fathersname ?grandfather ?grandfathername \n",
    "    WHERE \n",
    "    {\n",
    "    ?person aphvocab:name ?name .\n",
    "    OPTIONAL\n",
    "    { \n",
    "    ?person aphvocab:hasfather ?father ;\n",
    "            aphvocab:hasfather ?father ;\n",
    "            aphvocab:hasfather [ aphvocab:name ?fathersname ] ;\n",
    "            aphvocab:hasfather [ aphvocab:hasfather ?grandfather ] ;\n",
    "            aphvocab:hasfather [ aphvocab:name ?grandfathername ]\n",
    "    } .\n",
    "    }\n",
    "    ORDER BY ?person\n",
    "    \"\"\")\n",
    "\n",
    "template = \"{0!s:20}\\t{1!s:20}\\t{2!s:20}\\t{3!s:20}\\t{4!s:20}\\t{5!s:20}\" #column widths: 8, 10, 15, 7, 10\n",
    "print(template.format(\"NAME\", \"ID\", \"FATHER'S NAME\", \"FATHER'S ID\", \"GRANDFATHER\", \"GRANDFATHER'S ID\")) # header\n",
    "for row in qres:\n",
    "    if row == None:\n",
    "        str(None)\n",
    "    print(template.format(row.name, row.person, row.fathersname, row.father, row.grandfathername, row.grandfather))\n",
    "\n",
    "\n",
    "#template = \"{0:20}|{1:20}|{2:20}|{3:20}|{4:20}|{5:20}\" #column widths: 8, 10, 15, 7, 10\n",
    "#*rec.replace(\"http://aph/ids/\",\"\")\n",
    "#print(template.format(\"NAME\", \"ID\", \"FATHER'S NAME\", \"FATHER'S ID\", \"GRANDFATHER\", \"GRANDFATHER'S ID\")) # header\n",
    "#for rec in qres: \n",
    "#    print(row.name, row.person.replace(\"http://aph/ids/\",\"\"), row.fathersname, row.father.replace(\"http://aph/ids/\",\"\"), row.grandfathername, row.grandfather.replace(\"http://aph/ids/\",\"\"))"
   ]
  },
  {
   "cell_type": "code",
   "execution_count": null,
   "metadata": {
    "collapsed": true
   },
   "outputs": [],
   "source": []
  }
 ],
 "metadata": {
  "kernelspec": {
   "display_name": "Python 3",
   "language": "python",
   "name": "python3"
  },
  "language_info": {
   "codemirror_mode": {
    "name": "ipython",
    "version": 3
   },
   "file_extension": ".py",
   "mimetype": "text/x-python",
   "name": "python",
   "nbconvert_exporter": "python",
   "pygments_lexer": "ipython3",
   "version": "3.5.1"
  }
 },
 "nbformat": 4,
 "nbformat_minor": 0
}
