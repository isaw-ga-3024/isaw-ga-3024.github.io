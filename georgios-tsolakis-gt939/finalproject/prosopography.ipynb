{
 "cells": [
  {
   "cell_type": "markdown",
   "metadata": {},
   "source": [
    "RDFLib aims to be a pythonic RDF API, a Graph is a python collection of RDF \n",
    "Subject, Predicate, Object Triples."
   ]
  },
  {
   "cell_type": "code",
   "execution_count": 1,
   "metadata": {
    "collapsed": false
   },
   "outputs": [],
   "source": [
    "import rdflib\n",
    "g = rdflib.Graph()\n",
    "\n",
    "result = g.parse('epigraphy.ttl', format=\"turtle\")"
   ]
  },
  {
   "cell_type": "code",
   "execution_count": 2,
   "metadata": {
    "collapsed": false
   },
   "outputs": [
    {
     "name": "stdout",
     "output_type": "stream",
     "text": [
      "23\n"
     ]
    }
   ],
   "source": [
    "#Print the length of your ttl \n",
    "print(len(g))    "
   ]
  },
  {
   "cell_type": "code",
   "execution_count": 3,
   "metadata": {
    "collapsed": false
   },
   "outputs": [
    {
     "name": "stdout",
     "output_type": "stream",
     "text": [
      "http://aph/ids/a000013 http://www.w3.org/1999/02/22-rdf-syntax-ns#type http://aph/vocab/person\n",
      "http://aph/ids/a000013 http://aph/vocab/name anonymous\n",
      "http://aph/ids/0000490 http://www.w3.org/1999/02/22-rdf-syntax-ns#type http://aph/vocab/person\n",
      "http://aph/ids/0000441 http://aph/vocab/name Aristokles Molossos\n",
      "http://aph/ids/0000440 http://aph/vocab/name Aristokles Molossos\n",
      "http://aph/ids/0000441 http://aph/vocab/hasfather http://aph/ids/0000440\n",
      "http://aph/ids/0000956 http://www.w3.org/1999/02/22-rdf-syntax-ns#type http://aph/vocab/person\n",
      "http://aph/vocab/hasfather http://www.w3.org/2000/01/rdf-schema#label Has father\n",
      "http://aph/ids/0000441 http://www.w3.org/1999/02/22-rdf-syntax-ns#type http://aph/vocab/person\n",
      "http://aph/ids/0001383 http://www.w3.org/1999/02/22-rdf-syntax-ns#type http://aph/vocab/person\n",
      "http://aph/ids/0000956 http://aph/vocab/name Ermas Molossos\n",
      "http://aph/ids/0001383 http://aph/vocab/name Kaikos Papias\n",
      "http://aph/ids/0000440 http://www.w3.org/1999/02/22-rdf-syntax-ns#type http://aph/vocab/person\n",
      "http://aph/ids/0000956 http://aph/vocab/hasfather http://aph/ids/0000440\n",
      "http://aph/vocab/name http://www.w3.org/2000/01/rdf-schema#label Name\n",
      "http://aph/vocab/person http://www.w3.org/1999/02/22-rdf-syntax-ns#type http://www.w3.org/2000/01/rdf-schema#Class\n",
      "http://aph/ids/0000490 http://aph/vocab/name Artemidoros\n",
      "http://aph/ids/0001383 http://aph/vocab/hasfather http://aph/ids/0000490\n",
      "http://aph/ids/a000013 http://aph/vocab/hasfather http://aph/ids/0000440\n",
      "http://aph/vocab/name http://www.w3.org/1999/02/22-rdf-syntax-ns#type http://www.w3.org/2000/01/rdf-schema#Property\n",
      "http://aph/ids/0000440 http://aph/vocab/hasfather http://aph/ids/0000490\n",
      "http://aph/vocab/hasfather http://www.w3.org/1999/02/22-rdf-syntax-ns#type http://www.w3.org/2000/01/rdf-schema#Property\n",
      "http://aph/vocab/person http://www.w3.org/2000/01/rdf-schema#label Person\n"
     ]
    }
   ],
   "source": [
    "for s, p, o in g:\n",
    "    print(s, p, o)"
   ]
  },
  {
   "cell_type": "code",
   "execution_count": 4,
   "metadata": {
    "collapsed": false
   },
   "outputs": [],
   "source": [
    "#try this to see their type\n",
    "#for stmt in g:\n",
    "#    print(stmt)"
   ]
  },
  {
   "cell_type": "markdown",
   "metadata": {},
   "source": [
    "The components of the triples are URIs (resources) or Literals (values), URIs are grouped together by namespace, common namespaces are included in RDFLib:"
   ]
  },
  {
   "cell_type": "code",
   "execution_count": 5,
   "metadata": {
    "collapsed": true
   },
   "outputs": [],
   "source": [
    "semweb=rdflib.URIRef(\"epigraphy.ttl\")\n",
    "type=g.value(semweb, rdflib.RDFS.label)"
   ]
  },
  {
   "cell_type": "markdown",
   "metadata": {},
   "source": [
    "Print each person whose father's name is preserved"
   ]
  },
  {
   "cell_type": "code",
   "execution_count": 6,
   "metadata": {
    "collapsed": false,
    "scrolled": true
   },
   "outputs": [
    {
     "name": "stdout",
     "output_type": "stream",
     "text": [
      "The name of http://aph/ids/0000441's father is preserved\n",
      "The name of http://aph/ids/a000013's father is preserved\n",
      "The name of http://aph/ids/0001383's father is preserved\n",
      "The name of http://aph/ids/0000956's father is preserved\n",
      "The name of http://aph/ids/0000440's father is preserved\n"
     ]
    }
   ],
   "source": [
    "qres = g.query(\n",
    "    \"\"\"SELECT ?s\n",
    "    WHERE \n",
    "    {\n",
    "    ?s aphvocab:hasfather ?o .\n",
    "    } \n",
    "    \"\"\")\n",
    "\n",
    "for row in qres:\n",
    "    print(\"The name of %s's father is preserved\" % row )"
   ]
  },
  {
   "cell_type": "markdown",
   "metadata": {},
   "source": [
    "The name of each person in prosopography is"
   ]
  },
  {
   "cell_type": "code",
   "execution_count": 35,
   "metadata": {
    "collapsed": false
   },
   "outputs": [
    {
     "name": "stdout",
     "output_type": "stream",
     "text": [
      "The name of http://aph/ids/0000490 is Artemidoros\n",
      "The name of http://aph/ids/0001383 is Kaikos Papias\n",
      "The name of http://aph/ids/a000013 is anonymous\n",
      "The name of http://aph/ids/0000441 is Aristokles Molossos\n",
      "The name of http://aph/ids/0000440 is Aristokles Molossos\n",
      "The name of http://aph/ids/0000956 is Ermas Molossos\n"
     ]
    }
   ],
   "source": [
    "qres = g.query(\n",
    "    \"\"\"SELECT ?s ?o\n",
    "    WHERE \n",
    "    {\n",
    "    ?s aphvocab:name ?o .\n",
    "    } \n",
    "    \"\"\")\n",
    "\n",
    "for row in qres:\n",
    "    print(\"The name of %s is %s\" % (row.s, row.o))"
   ]
  },
  {
   "cell_type": "markdown",
   "metadata": {},
   "source": [
    "Print the id of each person whose father's name is preserved along with his father's id"
   ]
  },
  {
   "cell_type": "code",
   "execution_count": 63,
   "metadata": {
    "collapsed": false
   },
   "outputs": [
    {
     "name": "stdout",
     "output_type": "stream",
     "text": [
      "The name of http://aph/ids/0000441 is http://aph/ids/0000440\n",
      "The name of http://aph/ids/a000013 is http://aph/ids/0000440\n",
      "The name of http://aph/ids/0001383 is http://aph/ids/0000490\n",
      "The name of http://aph/ids/0000956 is http://aph/ids/0000440\n",
      "The name of http://aph/ids/0000440 is http://aph/ids/0000490\n"
     ]
    }
   ],
   "source": [
    "qres = g.query(\n",
    "    \"\"\"SELECT ?s ?o\n",
    "    WHERE \n",
    "    {\n",
    "    ?s aphvocab:hasfather ?o .\n",
    "    } \n",
    "    \"\"\")\n",
    "\n",
    "for row in qres:\n",
    "    print(\"The name of %s is %s\" % (row.s, row.o))"
   ]
  },
  {
   "cell_type": "markdown",
   "metadata": {},
   "source": [
    "Print all the persons with their id and the id of their fathers."
   ]
  },
  {
   "cell_type": "code",
   "execution_count": 212,
   "metadata": {
    "collapsed": false
   },
   "outputs": [
    {
     "name": "stdout",
     "output_type": "stream",
     "text": [
      "Aristokles Molossos (0000441) is son of 0000440\n",
      "anonymous (a000013) is son of 0000440\n",
      "Kaikos Papias (0001383) is son of 0000490\n",
      "Ermas Molossos (0000956) is son of 0000440\n",
      "Aristokles Molossos (0000440) is son of 0000490\n"
     ]
    }
   ],
   "source": [
    "qres = g.query(\n",
    "    \"\"\"SELECT ?person ?name ?father\n",
    "    WHERE \n",
    "    {\n",
    "    ?person aphvocab:name ?name ;\n",
    "            aphvocab:hasfather ?father .    \n",
    "    }\n",
    "    \"\"\")\n",
    "\n",
    "for row in qres:\n",
    "    print(\"%s (%s) is son of %s\" % (row.name, row.person.replace(\"http://aph/ids/\",\"\"), row.father.replace(\"http://aph/ids/\",\"\")))"
   ]
  },
  {
   "cell_type": "markdown",
   "metadata": {},
   "source": [
    "Find the name of the father"
   ]
  },
  {
   "cell_type": "code",
   "execution_count": 213,
   "metadata": {
    "collapsed": false
   },
   "outputs": [
    {
     "name": "stdout",
     "output_type": "stream",
     "text": [
      "http://aph/ids/0000441 is son of Aristokles Molossos\n",
      "http://aph/ids/a000013 is son of Aristokles Molossos\n",
      "http://aph/ids/0001383 is son of Artemidoros\n",
      "http://aph/ids/0000956 is son of Aristokles Molossos\n",
      "http://aph/ids/0000440 is son of Artemidoros\n"
     ]
    }
   ],
   "source": [
    "qres = g.query(\n",
    "    \"\"\"SELECT ?person ?name\n",
    "    WHERE \n",
    "    {\n",
    "    ?person (aphvocab:hasfather/aphvocab:name) ?name\n",
    "    }        \n",
    "    \"\"\")\n",
    "\n",
    "for row in qres:\n",
    "    print(\"%s is son of %s\" % (row.person, row.name))"
   ]
  },
  {
   "cell_type": "markdown",
   "metadata": {},
   "source": [
    "TESSSSSSSSSSSSSSSSSSSSSSSSSSSSSSSSSSSSSSSSSSSSSSTTTTTTTTTTTTT"
   ]
  },
  {
   "cell_type": "code",
   "execution_count": 218,
   "metadata": {
    "collapsed": false
   },
   "outputs": [
    {
     "name": "stdout",
     "output_type": "stream",
     "text": [
      "Aristokles Molossos (0000441) is son of None (0000440)\n",
      "anonymous (a000013) is son of None (0000440)\n",
      "Kaikos Papias (0001383) is son of None (0000490)\n",
      "Ermas Molossos (0000956) is son of None (0000440)\n",
      "Aristokles Molossos (0000440) is son of None (0000490)\n"
     ]
    }
   ],
   "source": [
    "qres = g.query(\n",
    "    \"\"\"SELECT ?person ?name ?father ?fathersname\n",
    "    WHERE \n",
    "    {\n",
    "    ?person aphvocab:name ?name ;\n",
    "            aphvocab:hasfather ?father .\n",
    "  #          (aphvocab:hasfather/aphvocab:name)+ ?fathersname .\n",
    "    }\n",
    "    \"\"\")\n",
    "\n",
    "for row in qres:\n",
    "    print(\"%s (%s) is son of %s (%s)\" % (row.name, row.person.replace(\"http://aph/ids/\",\"\"), row.fathersname, row.father.replace(\"http://aph/ids/\",\"\")))"
   ]
  },
  {
   "cell_type": "code",
   "execution_count": null,
   "metadata": {
    "collapsed": true
   },
   "outputs": [],
   "source": []
  }
 ],
 "metadata": {
  "kernelspec": {
   "display_name": "Python 3",
   "language": "python",
   "name": "python3"
  },
  "language_info": {
   "codemirror_mode": {
    "name": "ipython",
    "version": 3
   },
   "file_extension": ".py",
   "mimetype": "text/x-python",
   "name": "python",
   "nbconvert_exporter": "python",
   "pygments_lexer": "ipython3",
   "version": "3.5.1"
  }
 },
 "nbformat": 4,
 "nbformat_minor": 0
}
