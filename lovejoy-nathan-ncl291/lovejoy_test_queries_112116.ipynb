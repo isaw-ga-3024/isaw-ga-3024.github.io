{
 "cells": [
  {
   "cell_type": "markdown",
   "metadata": {},
   "source": [
    "# These are my current test queries; I am processing them through phpMyAdmin, thus I have not done so in iPython to avoid redundancy"
   ]
  },
  {
   "cell_type": "markdown",
   "metadata": {},
   "source": [
    "## Refer to links to successful queries in table form in the Google Doc"
   ]
  },
  {
   "cell_type": "markdown",
   "metadata": {},
   "source": [
    "#### This query provides information about variant readings of the god name \"Tarhunzas\" (Anatolian Storm-God), as well as the chronological range, geographic locations, and individual inscriptions in which they are attested.\n",
    "\n",
    "**Note** The database needs to be updated to see actual variants; in the previous version of the database, the divine name was entered in a simplified forms, thus no visual variations."
   ]
  },
  {
   "cell_type": "code",
   "execution_count": 2,
   "metadata": {
    "collapsed": false
   },
   "outputs": [],
   "source": [
    "# SELECT inscriptions_table.inscription_name, divine_names_table.divine_name, inscriptions_table.chronology_upper, \n",
    "# inscriptions_table.chronology_lower, inscriptions_table.inscription_region, inscriptions_table.inscription_site\n",
    "#     FROM `inscriptions_table`, `divine_names_table`, `inscriptions_divine_names_table`\n",
    "#     WHERE divine_names_table.divine_name_normalized = \"Tarhunzas\"\n",
    "#     AND divine_names_table.divine_name = inscriptions_divine_names_table.divine_name\n",
    "#     AND inscriptions_divine_names_table.inscription_name = inscriptions_table.inscription_name"
   ]
  },
  {
   "cell_type": "markdown",
   "metadata": {},
   "source": [
    "#### This query provides information about individuals associated with the title MAGNUS.REX (Great King), including name as written, name normalized, chronological range, geographic region and site, and individual inscriptions."
   ]
  },
  {
   "cell_type": "code",
   "execution_count": 3,
   "metadata": {
    "collapsed": true
   },
   "outputs": [],
   "source": [
    "# SELECT inscriptions_table.inscription_name, personal_names_table.personal_name_normalized, personal_names_table.personal_name,\n",
    "# inscriptions_table.chronology_upper, inscriptions_table.chronology_lower, inscriptions_table.inscription_region, \n",
    "# inscriptions_table.inscription_site\n",
    "#     FROM `inscriptions_table`, `personal_names_table`, `inscriptions_personal_names_table`\n",
    "#     WHERE inscriptions_personal_names_table.personal_name_title = \"MAGNUS.REX\"\n",
    "#     AND personal_names_table.personal_name = inscriptions_personal_names_table.personal_name\n",
    "#     AND inscriptions_personal_names_table.inscription_name = inscriptions_table.inscription_name"
   ]
  },
  {
   "cell_type": "markdown",
   "metadata": {},
   "source": [
    "#### This query will provide personal names and titles, divine names, and geographic names attested between 1200 and 800 BCE\n",
    "\n",
    "**Note** Database needs refinement; as we transition from one application to another, we have adjusted our 'geographic' fields, thus there is significant repetition in the current resultant table."
   ]
  },
  {
   "cell_type": "code",
   "execution_count": 4,
   "metadata": {
    "collapsed": true
   },
   "outputs": [],
   "source": [
    "# SELECT inscriptions_table.inscription_name, personal_names_table.personal_name_normalized,\n",
    "# inscriptions_personal_names_table.personal_name_title, divine_names_table.divine_name_normalized,\n",
    "# geographic_names_table.geographic_name_normalized, inscriptions_table.inscription_region, inscriptions_table.inscription_site,\n",
    "# inscriptions_table.chronology_upper, inscriptions_table.chronology_lower\n",
    "#     FROM `inscriptions_table`, `personal_names_table`, `inscriptions_personal_names_table`, `divine_names_table`,\n",
    "#     `geographic_names_table`, `inscriptions_divine_names_table`, `inscriptions_geographic_names_table`\n",
    "#     WHERE inscriptions_table.chronology_upper < 1200\n",
    "#     AND inscriptions_table.chronology_lower > 800\n",
    "#     AND inscriptions_table.inscription_name = inscriptions_personal_names_table.inscription_name\n",
    "#     AND inscriptions_personal_names_table.personal_name = personal_names_table.personal_name\n",
    "#     AND inscriptions_table.inscription_name = inscriptions_divine_names_table.inscription_name\n",
    "#     AND inscriptions_table.inscription_name = inscriptions_geographic_names_table.inscription_name\n",
    "#     AND inscriptions_divine_names_table.divine_name = divine_names_table.divine_name\n",
    "#     AND inscriptions_geographic_names_table.geographic_name = geographic_names_table.geographic_name"
   ]
  },
  {
   "cell_type": "markdown",
   "metadata": {},
   "source": [
    "#### This query will provide all sign variants of a chosen sign in a selected region, here Karkemis.  It will be displayed with the inscriptions within which they appear, the site within Karkemis, and the chronological range within which they are attested.\n",
    "\n",
    "**Note** This is currently not working...likely because my brain is slowly loosing functionality.  I will return to it later this week.  Any suggestions would be appreciated."
   ]
  },
  {
   "cell_type": "code",
   "execution_count": null,
   "metadata": {
    "collapsed": true
   },
   "outputs": [],
   "source": [
    "# SELECT DISTINCT inscriptions_table.inscription_name, signs_variants_table.sign_variant, inscriptions_table.inscription_site,\n",
    "# inscriptions_table.chronology_upper, inscriptions_table.chronology_lower\n",
    "#     FROM `inscriptions_table`, `geographic_names_table`, `inscriptions_geographic_names_table`, `signs_variants_table`,\n",
    "#     `inscriptions_signs_table`, `regions_table` \n",
    "#     WHERE inscriptions_table.inscription_region = \"Karkemis\"\n",
    "#     AND inscriptions_signs_table.sign_laroche_number = \"*439\"\n",
    "#     AND inscriptions_table.inscription_name = inscriptions_geographic_names_table.inscription_name\n",
    "#     AND geographic_names_table.geographic_name = inscriptions_geographic_names_table.geographic_name\n",
    "#     AND signs_variants_table.sign_laroche_number = inscriptions_signs_table.sign_laroche_number\n",
    "#     AND inscriptions_signs_table.inscription_name = inscriptions_table.inscription_name\n",
    "#     AND inscriptions_table.inscription_region = regions_table.region_name"
   ]
  }
 ],
 "metadata": {
  "kernelspec": {
   "display_name": "Python [Root]",
   "language": "python",
   "name": "Python [Root]"
  },
  "language_info": {
   "codemirror_mode": {
    "name": "ipython",
    "version": 3
   },
   "file_extension": ".py",
   "mimetype": "text/x-python",
   "name": "python",
   "nbconvert_exporter": "python",
   "pygments_lexer": "ipython3",
   "version": "3.5.2"
  }
 },
 "nbformat": 4,
 "nbformat_minor": 0
}
